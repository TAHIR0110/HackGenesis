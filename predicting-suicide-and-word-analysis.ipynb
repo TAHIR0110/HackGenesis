{
 "cells": [
  {
   "cell_type": "code",
   "execution_count": 1,
   "id": "e2367cf8",
   "metadata": {
    "execution": {
     "iopub.execute_input": "2024-05-11T02:15:47.480296Z",
     "iopub.status.busy": "2024-05-11T02:15:47.479010Z",
     "iopub.status.idle": "2024-05-11T02:15:48.380622Z",
     "shell.execute_reply": "2024-05-11T02:15:48.381082Z",
     "shell.execute_reply.started": "2022-03-07T11:15:46.044193Z"
    },
    "papermill": {
     "duration": 0.967205,
     "end_time": "2024-05-11T02:15:48.381339",
     "exception": false,
     "start_time": "2024-05-11T02:15:47.414134",
     "status": "completed"
    },
    "tags": []
   },
   "outputs": [],
   "source": [
    "import numpy as np\n",
    "import pandas as pd\n",
    "import matplotlib.pyplot as plt\n",
    "import seaborn as sns\n",
    "import zipfile\n",
    "\n",
    "\n",
    "import warnings\n",
    "\n",
    "warnings.filterwarnings(\"ignore\")"
   ]
  },
  {
   "cell_type": "code",
   "execution_count": 3,
   "id": "53d92d45",
   "metadata": {
    "execution": {
     "iopub.execute_input": "2024-05-11T02:15:48.509292Z",
     "iopub.status.busy": "2024-05-11T02:15:48.508812Z",
     "iopub.status.idle": "2024-05-11T02:15:52.345158Z",
     "shell.execute_reply": "2024-05-11T02:15:52.345593Z",
     "shell.execute_reply.started": "2022-03-07T11:15:46.575672Z"
    },
    "papermill": {
     "duration": 3.902803,
     "end_time": "2024-05-11T02:15:52.345735",
     "exception": false,
     "start_time": "2024-05-11T02:15:48.442932",
     "status": "completed"
    },
    "tags": []
   },
   "outputs": [
    {
     "data": {
      "text/html": [
       "<div>\n",
       "<style scoped>\n",
       "    .dataframe tbody tr th:only-of-type {\n",
       "        vertical-align: middle;\n",
       "    }\n",
       "\n",
       "    .dataframe tbody tr th {\n",
       "        vertical-align: top;\n",
       "    }\n",
       "\n",
       "    .dataframe thead th {\n",
       "        text-align: right;\n",
       "    }\n",
       "</style>\n",
       "<table border=\"1\" class=\"dataframe\">\n",
       "  <thead>\n",
       "    <tr style=\"text-align: right;\">\n",
       "      <th></th>\n",
       "      <th>Unnamed: 0</th>\n",
       "      <th>text</th>\n",
       "      <th>class</th>\n",
       "    </tr>\n",
       "  </thead>\n",
       "  <tbody>\n",
       "    <tr>\n",
       "      <th>0</th>\n",
       "      <td>2</td>\n",
       "      <td>Ex Wife Threatening SuicideRecently I left my ...</td>\n",
       "      <td>suicide</td>\n",
       "    </tr>\n",
       "    <tr>\n",
       "      <th>1</th>\n",
       "      <td>3</td>\n",
       "      <td>Am I weird I don't get affected by compliments...</td>\n",
       "      <td>non-suicide</td>\n",
       "    </tr>\n",
       "    <tr>\n",
       "      <th>2</th>\n",
       "      <td>4</td>\n",
       "      <td>Finally 2020 is almost over... So I can never ...</td>\n",
       "      <td>non-suicide</td>\n",
       "    </tr>\n",
       "    <tr>\n",
       "      <th>3</th>\n",
       "      <td>8</td>\n",
       "      <td>i need helpjust help me im crying so hard</td>\n",
       "      <td>suicide</td>\n",
       "    </tr>\n",
       "    <tr>\n",
       "      <th>4</th>\n",
       "      <td>9</td>\n",
       "      <td>I’m so lostHello, my name is Adam (16) and I’v...</td>\n",
       "      <td>suicide</td>\n",
       "    </tr>\n",
       "  </tbody>\n",
       "</table>\n",
       "</div>"
      ],
      "text/plain": [
       "   Unnamed: 0                                               text        class\n",
       "0           2  Ex Wife Threatening SuicideRecently I left my ...      suicide\n",
       "1           3  Am I weird I don't get affected by compliments...  non-suicide\n",
       "2           4  Finally 2020 is almost over... So I can never ...  non-suicide\n",
       "3           8          i need helpjust help me im crying so hard      suicide\n",
       "4           9  I’m so lostHello, my name is Adam (16) and I’v...      suicide"
      ]
     },
     "execution_count": 3,
     "metadata": {},
     "output_type": "execute_result"
    }
   ],
   "source": [
    "# INCLUDE YOUR DATASET OR THE ONE USED HERE IS MENTIONED IN THE DATASET PART IN COMMENT TO NOT INTERFERE DIRECTLY WITH CODE\n",
    "\n",
    "# zf = zipfile.ZipFile('Suicide_Detection.zip')\n",
    "# Suicide = pd.read_csv(zf.open('Suicide_Detection.csv'))\n",
    "\n",
    "# Suicide.head()"
   ]
  },
  {
   "cell_type": "code",
   "execution_count": 7,
   "id": "deb3abd4",
   "metadata": {
    "execution": {
     "iopub.execute_input": "2024-05-11T02:15:52.476281Z",
     "iopub.status.busy": "2024-05-11T02:15:52.475812Z",
     "iopub.status.idle": "2024-05-11T02:15:52.538728Z",
     "shell.execute_reply": "2024-05-11T02:15:52.538252Z",
     "shell.execute_reply.started": "2022-03-07T11:15:49.346217Z"
    },
    "papermill": {
     "duration": 0.130627,
     "end_time": "2024-05-11T02:15:52.538850",
     "exception": false,
     "start_time": "2024-05-11T02:15:52.408223",
     "status": "completed"
    },
    "tags": []
   },
   "outputs": [
    {
     "name": "stdout",
     "output_type": "stream",
     "text": [
      "<class 'pandas.core.frame.DataFrame'>\n",
      "RangeIndex: 232074 entries, 0 to 232073\n",
      "Data columns (total 2 columns):\n",
      " #   Column  Non-Null Count   Dtype \n",
      "---  ------  --------------   ----- \n",
      " 0   text    232074 non-null  object\n",
      " 1   class   232074 non-null  object\n",
      "dtypes: object(2)\n",
      "memory usage: 3.5+ MB\n"
     ]
    }
   ],
   "source": [
    "Suicide = Suicide.drop(\"Unnamed: 0\", axis=1)\n",
    "Suicide.info()"
   ]
  },
  {
   "cell_type": "code",
   "execution_count": 8,
   "id": "9aca9fce",
   "metadata": {
    "execution": {
     "iopub.execute_input": "2024-05-11T02:15:52.668081Z",
     "iopub.status.busy": "2024-05-11T02:15:52.667567Z",
     "iopub.status.idle": "2024-05-11T02:15:52.669938Z",
     "shell.execute_reply": "2024-05-11T02:15:52.670328Z",
     "shell.execute_reply.started": "2022-03-07T11:15:49.434817Z"
    },
    "papermill": {
     "duration": 0.069131,
     "end_time": "2024-05-11T02:15:52.670445",
     "exception": false,
     "start_time": "2024-05-11T02:15:52.601314",
     "status": "completed"
    },
    "tags": []
   },
   "outputs": [
    {
     "data": {
      "text/plain": [
       "\"Am I weird I don't get affected by compliments if it's coming from someone I know irl but I feel really good when internet strangers do it\""
      ]
     },
     "execution_count": 8,
     "metadata": {},
     "output_type": "execute_result"
    }
   ],
   "source": [
    "Suicide[\"text\"][1]"
   ]
  },
  {
   "cell_type": "code",
   "execution_count": 9,
   "id": "17c8f745",
   "metadata": {
    "execution": {
     "iopub.execute_input": "2024-05-11T02:15:52.806868Z",
     "iopub.status.busy": "2024-05-11T02:15:52.806290Z",
     "iopub.status.idle": "2024-05-11T02:15:53.040554Z",
     "shell.execute_reply": "2024-05-11T02:15:53.041068Z",
     "shell.execute_reply.started": "2022-03-07T11:15:49.443795Z"
    },
    "papermill": {
     "duration": 0.3091,
     "end_time": "2024-05-11T02:15:53.041262",
     "exception": false,
     "start_time": "2024-05-11T02:15:52.732162",
     "status": "completed"
    },
    "tags": []
   },
   "outputs": [
    {
     "data": {
      "image/png": "[encoded data removed]",
      "text/plain": [
       "<Figure size 640x480 with 1 Axes>"
      ]
     },
     "metadata": {},
     "output_type": "display_data"
    }
   ],
   "source": [
    "sns.countplot(Suicide[\"class\"])\n",
    "plt.show()"
   ]
  },
  {
   "cell_type": "code",
   "execution_count": 10,
   "id": "a37f4452",
   "metadata": {
    "execution": {
     "iopub.execute_input": "2024-05-11T02:15:53.176733Z",
     "iopub.status.busy": "2024-05-11T02:15:53.175970Z",
     "iopub.status.idle": "2024-05-11T02:15:54.638005Z",
     "shell.execute_reply": "2024-05-11T02:15:54.638515Z",
     "shell.execute_reply.started": "2022-03-07T11:15:49.892626Z"
    },
    "papermill": {
     "duration": 1.529979,
     "end_time": "2024-05-11T02:15:54.638661",
     "exception": false,
     "start_time": "2024-05-11T02:15:53.108682",
     "status": "completed"
    },
    "tags": []
   },
   "outputs": [
    {
     "data": {
      "text/plain": [
       "count    232074.000000\n",
       "mean        131.546438\n",
       "std         222.081581\n",
       "min           1.000000\n",
       "25%          26.000000\n",
       "50%          60.000000\n",
       "75%         154.000000\n",
       "max       15632.000000\n",
       "Name: Length, dtype: float64"
      ]
     },
     "execution_count": 10,
     "metadata": {},
     "output_type": "execute_result"
    }
   ],
   "source": [
    "Suicide[\"Length\"] = Suicide[\"text\"].apply(lambda x: len(x.split(\" \")))\n",
    "Suicide[\"Length\"].describe()"
   ]
  },
  {
   "cell_type": "code",
   "execution_count": 11,
   "id": "58daf024",
   "metadata": {
    "execution": {
     "iopub.execute_input": "2024-05-11T02:15:54.770346Z",
     "iopub.status.busy": "2024-05-11T02:15:54.769781Z",
     "iopub.status.idle": "2024-05-11T02:15:54.802504Z",
     "shell.execute_reply": "2024-05-11T02:15:54.802061Z",
     "shell.execute_reply.started": "2022-03-07T11:15:51.913142Z"
    },
    "papermill": {
     "duration": 0.099208,
     "end_time": "2024-05-11T02:15:54.802628",
     "exception": false,
     "start_time": "2024-05-11T02:15:54.703420",
     "status": "completed"
    },
    "tags": []
   },
   "outputs": [
    {
     "name": "stdout",
     "output_type": "stream",
     "text": [
      "15.0\n",
      "22.0\n",
      "30.0\n",
      "42.0\n",
      "60.0\n",
      "86.0\n",
      "126.0\n",
      "190.0\n",
      "317.0\n"
     ]
    }
   ],
   "source": [
    "for i in [0.1, 0.2, 0.3, 0.4, 0.5, 0.6, 0.7, 0.8, 0.9]:\n",
    "    print(Suicide[\"Length\"].quantile(i))"
   ]
  },
  {
   "cell_type": "code",
   "execution_count": 12,
   "id": "f9689d1b",
   "metadata": {
    "execution": {
     "iopub.execute_input": "2024-05-11T02:15:54.936429Z",
     "iopub.status.busy": "2024-05-11T02:15:54.935838Z",
     "iopub.status.idle": "2024-05-11T02:15:54.965275Z",
     "shell.execute_reply": "2024-05-11T02:15:54.965709Z",
     "shell.execute_reply.started": "2022-03-07T11:15:51.966093Z"
    },
    "papermill": {
     "duration": 0.098733,
     "end_time": "2024-05-11T02:15:54.965856",
     "exception": false,
     "start_time": "2024-05-11T02:15:54.867123",
     "status": "completed"
    },
    "tags": []
   },
   "outputs": [
    {
     "name": "stdout",
     "output_type": "stream",
     "text": [
      "339.0\n",
      "363.0\n",
      "393.0\n",
      "427.0\n",
      "470.0\n",
      "526.0\n",
      "604.0\n",
      "721.0\n",
      "960.0\n"
     ]
    }
   ],
   "source": [
    "for i in [0.91, 0.92, 0.93, 0.94, 0.95, 0.96, 0.97, 0.98, 0.99]:\n",
    "    print(Suicide[\"Length\"].quantile(i))"
   ]
  },
  {
   "cell_type": "code",
   "execution_count": 13,
   "id": "cebe2838",
   "metadata": {
    "execution": {
     "iopub.execute_input": "2024-05-11T02:15:55.097610Z",
     "iopub.status.busy": "2024-05-11T02:15:55.096393Z",
     "iopub.status.idle": "2024-05-11T02:15:55.099182Z",
     "shell.execute_reply": "2024-05-11T02:15:55.099634Z",
     "shell.execute_reply.started": "2022-03-07T11:15:52.019333Z"
    },
    "papermill": {
     "duration": 0.069596,
     "end_time": "2024-05-11T02:15:55.099760",
     "exception": false,
     "start_time": "2024-05-11T02:15:55.030164",
     "status": "completed"
    },
    "tags": []
   },
   "outputs": [],
   "source": [
    "# Cutting off the post length at 317 words."
   ]
  },
  {
   "cell_type": "code",
   "execution_count": 14,
   "id": "e5dc1554",
   "metadata": {
    "execution": {
     "iopub.execute_input": "2024-05-11T02:15:55.233663Z",
     "iopub.status.busy": "2024-05-11T02:15:55.233117Z",
     "iopub.status.idle": "2024-05-11T02:15:55.251355Z",
     "shell.execute_reply": "2024-05-11T02:15:55.251849Z",
     "shell.execute_reply.started": "2022-03-07T11:15:52.025788Z"
    },
    "papermill": {
     "duration": 0.087898,
     "end_time": "2024-05-11T02:15:55.252015",
     "exception": false,
     "start_time": "2024-05-11T02:15:55.164117",
     "status": "completed"
    },
    "tags": []
   },
   "outputs": [],
   "source": [
    "Suicide = Suicide[Suicide.Length <= 317]"
   ]
  },
  {
   "cell_type": "code",
   "execution_count": 15,
   "id": "352947fe",
   "metadata": {
    "execution": {
     "iopub.execute_input": "2024-05-11T02:15:55.383973Z",
     "iopub.status.busy": "2024-05-11T02:15:55.383320Z",
     "iopub.status.idle": "2024-05-11T02:15:55.578153Z",
     "shell.execute_reply": "2024-05-11T02:15:55.578636Z",
     "shell.execute_reply.started": "2022-03-07T11:15:52.060847Z"
    },
    "papermill": {
     "duration": 0.261804,
     "end_time": "2024-05-11T02:15:55.578801",
     "exception": false,
     "start_time": "2024-05-11T02:15:55.316997",
     "status": "completed"
    },
    "tags": []
   },
   "outputs": [
    {
     "data": {
      "image/png": "[encoded data removed]",
      "text/plain": [
       "<Figure size 640x480 with 1 Axes>"
      ]
     },
     "metadata": {},
     "output_type": "display_data"
    }
   ],
   "source": [
    "sns.countplot(Suicide[\"class\"])\n",
    "plt.show()"
   ]
  },
  {
   "cell_type": "code",
   "execution_count": 16,
   "id": "194e0fb2",
   "metadata": {
    "execution": {
     "iopub.execute_input": "2024-05-11T02:15:55.721988Z",
     "iopub.status.busy": "2024-05-11T02:15:55.721435Z",
     "iopub.status.idle": "2024-05-11T02:15:55.724885Z",
     "shell.execute_reply": "2024-05-11T02:15:55.724397Z",
     "shell.execute_reply.started": "2022-03-07T11:15:52.482622Z"
    },
    "papermill": {
     "duration": 0.071066,
     "end_time": "2024-05-11T02:15:55.724999",
     "exception": false,
     "start_time": "2024-05-11T02:15:55.653933",
     "status": "completed"
    },
    "tags": []
   },
   "outputs": [
    {
     "data": {
      "text/plain": [
       "208955"
      ]
     },
     "execution_count": 16,
     "metadata": {},
     "output_type": "execute_result"
    }
   ],
   "source": [
    "len(Suicide)"
   ]
  },
  {
   "cell_type": "code",
   "execution_count": 17,
   "id": "c2de3fe4",
   "metadata": {
    "execution": {
     "iopub.execute_input": "2024-05-11T02:15:55.859322Z",
     "iopub.status.busy": "2024-05-11T02:15:55.858660Z",
     "iopub.status.idle": "2024-05-11T02:15:55.860332Z",
     "shell.execute_reply": "2024-05-11T02:15:55.860745Z",
     "shell.execute_reply.started": "2022-03-07T11:15:52.492002Z"
    },
    "papermill": {
     "duration": 0.0706,
     "end_time": "2024-05-11T02:15:55.860862",
     "exception": false,
     "start_time": "2024-05-11T02:15:55.790262",
     "status": "completed"
    },
    "tags": []
   },
   "outputs": [],
   "source": [
    "# As we can see we still get a good distribution of the target class."
   ]
  },
  {
   "cell_type": "code",
   "execution_count": 18,
   "id": "67eee252",
   "metadata": {
    "execution": {
     "iopub.execute_input": "2024-05-11T02:15:56.000332Z",
     "iopub.status.busy": "2024-05-11T02:15:55.994834Z",
     "iopub.status.idle": "2024-05-11T02:16:00.549565Z",
     "shell.execute_reply": "2024-05-11T02:16:00.549049Z",
     "shell.execute_reply.started": "2022-03-07T11:15:52.510419Z"
    },
    "papermill": {
     "duration": 4.62243,
     "end_time": "2024-05-11T02:16:00.549679",
     "exception": false,
     "start_time": "2024-05-11T02:15:55.927249",
     "status": "completed"
    },
    "tags": []
   },
   "outputs": [
    {
     "data": {
      "text/plain": [
       "16688702"
      ]
     },
     "execution_count": 18,
     "metadata": {},
     "output_type": "execute_result"
    }
   ],
   "source": [
    "Words = list()\n",
    "for i in Suicide[\"text\"]:\n",
    "    for j in i.split(\" \"):\n",
    "        Words.append(j.upper())\n",
    "len(Words)"
   ]
  },
  {
   "cell_type": "code",
   "execution_count": 19,
   "id": "d5b3fb8c",
   "metadata": {
    "execution": {
     "iopub.execute_input": "2024-05-11T02:16:00.685440Z",
     "iopub.status.busy": "2024-05-11T02:16:00.684873Z",
     "iopub.status.idle": "2024-05-11T02:16:00.687340Z",
     "shell.execute_reply": "2024-05-11T02:16:00.686872Z",
     "shell.execute_reply.started": "2022-03-07T11:15:58.628295Z"
    },
    "papermill": {
     "duration": 0.072252,
     "end_time": "2024-05-11T02:16:00.687442",
     "exception": false,
     "start_time": "2024-05-11T02:16:00.615190",
     "status": "completed"
    },
    "tags": []
   },
   "outputs": [],
   "source": [
    "from collections import Counter"
   ]
  },
  {
   "cell_type": "code",
   "execution_count": 20,
   "id": "6991175a",
   "metadata": {
    "execution": {
     "iopub.execute_input": "2024-05-11T02:16:00.822179Z",
     "iopub.status.busy": "2024-05-11T02:16:00.821672Z",
     "iopub.status.idle": "2024-05-11T02:16:03.742473Z",
     "shell.execute_reply": "2024-05-11T02:16:03.742900Z",
     "shell.execute_reply.started": "2022-03-07T11:15:58.633934Z"
    },
    "papermill": {
     "duration": 2.989445,
     "end_time": "2024-05-11T02:16:03.743045",
     "exception": false,
     "start_time": "2024-05-11T02:16:00.753600",
     "status": "completed"
    },
    "tags": []
   },
   "outputs": [
    {
     "data": {
      "text/html": [
       "<div>\n",
       "<style scoped>\n",
       "    .dataframe tbody tr th:only-of-type {\n",
       "        vertical-align: middle;\n",
       "    }\n",
       "\n",
       "    .dataframe tbody tr th {\n",
       "        vertical-align: top;\n",
       "    }\n",
       "\n",
       "    .dataframe thead th {\n",
       "        text-align: right;\n",
       "    }\n",
       "</style>\n",
       "<table border=\"1\" class=\"dataframe\">\n",
       "  <thead>\n",
       "    <tr style=\"text-align: right;\">\n",
       "      <th></th>\n",
       "      <th>Word</th>\n",
       "      <th>Frequency</th>\n",
       "    </tr>\n",
       "  </thead>\n",
       "  <tbody>\n",
       "    <tr>\n",
       "      <th>4</th>\n",
       "      <td>I</td>\n",
       "      <td>890895</td>\n",
       "    </tr>\n",
       "    <tr>\n",
       "      <th>18</th>\n",
       "      <td>TO</td>\n",
       "      <td>558762</td>\n",
       "    </tr>\n",
       "    <tr>\n",
       "      <th>16</th>\n",
       "      <td>AND</td>\n",
       "      <td>464789</td>\n",
       "    </tr>\n",
       "    <tr>\n",
       "      <th>90</th>\n",
       "      <td>THE</td>\n",
       "      <td>350903</td>\n",
       "    </tr>\n",
       "    <tr>\n",
       "      <th>30</th>\n",
       "      <td>A</td>\n",
       "      <td>339305</td>\n",
       "    </tr>\n",
       "    <tr>\n",
       "      <th>...</th>\n",
       "      <td>...</td>\n",
       "      <td>...</td>\n",
       "    </tr>\n",
       "    <tr>\n",
       "      <th>404</th>\n",
       "      <td>CAN'T</td>\n",
       "      <td>35968</td>\n",
       "    </tr>\n",
       "    <tr>\n",
       "      <th>296</th>\n",
       "      <td>HAD</td>\n",
       "      <td>35618</td>\n",
       "    </tr>\n",
       "    <tr>\n",
       "      <th>460</th>\n",
       "      <td>DON’T</td>\n",
       "      <td>35336</td>\n",
       "    </tr>\n",
       "    <tr>\n",
       "      <th>1328</th>\n",
       "      <td>I'VE</td>\n",
       "      <td>35261</td>\n",
       "    </tr>\n",
       "    <tr>\n",
       "      <th>158</th>\n",
       "      <td>ONLY</td>\n",
       "      <td>34925</td>\n",
       "    </tr>\n",
       "  </tbody>\n",
       "</table>\n",
       "<p>70 rows × 2 columns</p>\n",
       "</div>"
      ],
      "text/plain": [
       "       Word  Frequency\n",
       "4         I     890895\n",
       "18       TO     558762\n",
       "16      AND     464789\n",
       "90      THE     350903\n",
       "30        A     339305\n",
       "...     ...        ...\n",
       "404   CAN'T      35968\n",
       "296     HAD      35618\n",
       "460   DON’T      35336\n",
       "1328   I'VE      35261\n",
       "158    ONLY      34925\n",
       "\n",
       "[70 rows x 2 columns]"
      ]
     },
     "execution_count": 20,
     "metadata": {},
     "output_type": "execute_result"
    }
   ],
   "source": [
    "Words_Freq = Counter(Words)\n",
    "Words_Freq = pd.DataFrame(\n",
    "    {\"Word\": list(Words_Freq.keys()), \"Frequency\": list(Words_Freq.values())}\n",
    ")\n",
    "Words_Freq.sort_values(\"Frequency\", ascending=False, inplace=True)\n",
    "Words_Freq.head(70)"
   ]
  },
  {
   "cell_type": "code",
   "execution_count": 21,
   "id": "0e8921a1",
   "metadata": {
    "execution": {
     "iopub.execute_input": "2024-05-11T02:16:03.876448Z",
     "iopub.status.busy": "2024-05-11T02:16:03.875973Z",
     "iopub.status.idle": "2024-05-11T02:16:03.879604Z",
     "shell.execute_reply": "2024-05-11T02:16:03.880077Z",
     "shell.execute_reply.started": "2022-03-07T11:16:02.658729Z"
    },
    "papermill": {
     "duration": 0.072068,
     "end_time": "2024-05-11T02:16:03.880206",
     "exception": false,
     "start_time": "2024-05-11T02:16:03.808138",
     "status": "completed"
    },
    "tags": []
   },
   "outputs": [
    {
     "data": {
      "text/plain": [
       "428444"
      ]
     },
     "execution_count": 21,
     "metadata": {},
     "output_type": "execute_result"
    }
   ],
   "source": [
    "len(Words_Freq)"
   ]
  },
  {
   "cell_type": "code",
   "execution_count": 22,
   "id": "ff76beae",
   "metadata": {
    "execution": {
     "iopub.execute_input": "2024-05-11T02:16:04.015882Z",
     "iopub.status.busy": "2024-05-11T02:16:04.015384Z",
     "iopub.status.idle": "2024-05-11T02:16:04.029572Z",
     "shell.execute_reply": "2024-05-11T02:16:04.030090Z",
     "shell.execute_reply.started": "2022-03-07T11:16:02.667032Z"
    },
    "papermill": {
     "duration": 0.083635,
     "end_time": "2024-05-11T02:16:04.030239",
     "exception": false,
     "start_time": "2024-05-11T02:16:03.946604",
     "status": "completed"
    },
    "tags": []
   },
   "outputs": [
    {
     "data": {
      "text/plain": [
       "count    428444.000000\n",
       "mean         38.951886\n",
       "std        2288.110751\n",
       "min           1.000000\n",
       "25%           1.000000\n",
       "50%           1.000000\n",
       "75%           2.000000\n",
       "max      890895.000000\n",
       "Name: Frequency, dtype: float64"
      ]
     },
     "execution_count": 22,
     "metadata": {},
     "output_type": "execute_result"
    }
   ],
   "source": [
    "Words_Freq[\"Frequency\"].describe()"
   ]
  },
  {
   "cell_type": "code",
   "execution_count": 23,
   "id": "57f4e683",
   "metadata": {
    "execution": {
     "iopub.execute_input": "2024-05-11T02:16:04.167122Z",
     "iopub.status.busy": "2024-05-11T02:16:04.166607Z",
     "iopub.status.idle": "2024-05-11T02:16:04.214385Z",
     "shell.execute_reply": "2024-05-11T02:16:04.213909Z",
     "shell.execute_reply.started": "2022-03-07T11:16:02.697904Z"
    },
    "papermill": {
     "duration": 0.117895,
     "end_time": "2024-05-11T02:16:04.214528",
     "exception": false,
     "start_time": "2024-05-11T02:16:04.096633",
     "status": "completed"
    },
    "tags": []
   },
   "outputs": [
    {
     "name": "stdout",
     "output_type": "stream",
     "text": [
      "228.0\n",
      "270.0\n",
      "325.8989999999758\n",
      "406.0\n",
      "528.0\n",
      "709.0\n",
      "1035.0\n",
      "1825.0\n",
      "4104.140000000596\n"
     ]
    }
   ],
   "source": [
    "for i in [0.991, 0.992, 0.993, 0.994, 0.995, 0.996, 0.997, 0.998, 0.999]:\n",
    "    print(Words_Freq[\"Frequency\"].quantile(i))"
   ]
  },
  {
   "cell_type": "code",
   "execution_count": 24,
   "id": "ca28f936",
   "metadata": {
    "execution": {
     "iopub.execute_input": "2024-05-11T02:16:04.354742Z",
     "iopub.status.busy": "2024-05-11T02:16:04.354171Z",
     "iopub.status.idle": "2024-05-11T02:16:04.355721Z",
     "shell.execute_reply": "2024-05-11T02:16:04.356126Z",
     "shell.execute_reply.started": "2022-03-07T11:16:02.786864Z"
    },
    "papermill": {
     "duration": 0.07343,
     "end_time": "2024-05-11T02:16:04.356273",
     "exception": false,
     "start_time": "2024-05-11T02:16:04.282843",
     "status": "completed"
    },
    "tags": []
   },
   "outputs": [],
   "source": [
    "# Cutting off the words frequency at above 99 quantile and below 31905"
   ]
  },
  {
   "cell_type": "code",
   "execution_count": 25,
   "id": "d1450970",
   "metadata": {
    "execution": {
     "iopub.execute_input": "2024-05-11T02:16:04.494613Z",
     "iopub.status.busy": "2024-05-11T02:16:04.493749Z",
     "iopub.status.idle": "2024-05-11T02:16:04.505129Z",
     "shell.execute_reply": "2024-05-11T02:16:04.505577Z",
     "shell.execute_reply.started": "2022-03-07T11:16:02.792359Z"
    },
    "papermill": {
     "duration": 0.082959,
     "end_time": "2024-05-11T02:16:04.505741",
     "exception": false,
     "start_time": "2024-05-11T02:16:04.422782",
     "status": "completed"
    },
    "tags": []
   },
   "outputs": [
    {
     "data": {
      "text/plain": [
       "4281"
      ]
     },
     "execution_count": 25,
     "metadata": {},
     "output_type": "execute_result"
    }
   ],
   "source": [
    "Words_Freq = Words_Freq[\n",
    "    Words_Freq[\"Frequency\"] > Words_Freq[\"Frequency\"].quantile(0.99)\n",
    "]\n",
    "len(Words_Freq)"
   ]
  },
  {
   "cell_type": "code",
   "execution_count": 26,
   "id": "9589c3f3",
   "metadata": {
    "execution": {
     "iopub.execute_input": "2024-05-11T02:16:04.650020Z",
     "iopub.status.busy": "2024-05-11T02:16:04.646905Z",
     "iopub.status.idle": "2024-05-11T02:16:04.653101Z",
     "shell.execute_reply": "2024-05-11T02:16:04.653528Z",
     "shell.execute_reply.started": "2022-03-07T11:16:02.818842Z"
    },
    "papermill": {
     "duration": 0.079093,
     "end_time": "2024-05-11T02:16:04.653699",
     "exception": false,
     "start_time": "2024-05-11T02:16:04.574606",
     "status": "completed"
    },
    "tags": []
   },
   "outputs": [
    {
     "data": {
      "text/plain": [
       "count      4281.000000\n",
       "mean       3504.923616\n",
       "std       22625.909153\n",
       "min         195.000000\n",
       "25%         294.000000\n",
       "50%         528.000000\n",
       "75%        1378.000000\n",
       "max      890895.000000\n",
       "Name: Frequency, dtype: float64"
      ]
     },
     "execution_count": 26,
     "metadata": {},
     "output_type": "execute_result"
    }
   ],
   "source": [
    "Words_Freq[\"Frequency\"].describe()"
   ]
  },
  {
   "cell_type": "code",
   "execution_count": 27,
   "id": "08bf5acb",
   "metadata": {
    "execution": {
     "iopub.execute_input": "2024-05-11T02:16:04.974233Z",
     "iopub.status.busy": "2024-05-11T02:16:04.973643Z",
     "iopub.status.idle": "2024-05-11T02:16:04.977897Z",
     "shell.execute_reply": "2024-05-11T02:16:04.977443Z",
     "shell.execute_reply.started": "2022-03-07T11:16:02.830614Z"
    },
    "papermill": {
     "duration": 0.255056,
     "end_time": "2024-05-11T02:16:04.978006",
     "exception": false,
     "start_time": "2024-05-11T02:16:04.722950",
     "status": "completed"
    },
    "tags": []
   },
   "outputs": [
    {
     "data": {
      "text/html": [
       "<div>\n",
       "<style scoped>\n",
       "    .dataframe tbody tr th:only-of-type {\n",
       "        vertical-align: middle;\n",
       "    }\n",
       "\n",
       "    .dataframe tbody tr th {\n",
       "        vertical-align: top;\n",
       "    }\n",
       "\n",
       "    .dataframe thead th {\n",
       "        text-align: right;\n",
       "    }\n",
       "</style>\n",
       "<table border=\"1\" class=\"dataframe\">\n",
       "  <thead>\n",
       "    <tr style=\"text-align: right;\">\n",
       "      <th></th>\n",
       "      <th>Word</th>\n",
       "      <th>Frequency</th>\n",
       "    </tr>\n",
       "  </thead>\n",
       "  <tbody>\n",
       "    <tr>\n",
       "      <th>726</th>\n",
       "      <td>SOME</td>\n",
       "      <td>31882</td>\n",
       "    </tr>\n",
       "    <tr>\n",
       "      <th>145</th>\n",
       "      <td>ME.</td>\n",
       "      <td>31630</td>\n",
       "    </tr>\n",
       "    <tr>\n",
       "      <th>3986</th>\n",
       "      <td>FILLER</td>\n",
       "      <td>31016</td>\n",
       "    </tr>\n",
       "    <tr>\n",
       "      <th>1254</th>\n",
       "      <td>WE</td>\n",
       "      <td>30745</td>\n",
       "    </tr>\n",
       "    <tr>\n",
       "      <th>11</th>\n",
       "      <td>HAS</td>\n",
       "      <td>29485</td>\n",
       "    </tr>\n",
       "  </tbody>\n",
       "</table>\n",
       "</div>"
      ],
      "text/plain": [
       "        Word  Frequency\n",
       "726     SOME      31882\n",
       "145      ME.      31630\n",
       "3986  FILLER      31016\n",
       "1254      WE      30745\n",
       "11       HAS      29485"
      ]
     },
     "execution_count": 27,
     "metadata": {},
     "output_type": "execute_result"
    }
   ],
   "source": [
    "Words_Freq = Words_Freq[Words_Freq[\"Frequency\"] < 31905]\n",
    "Words_Freq.head()"
   ]
  },
  {
   "cell_type": "code",
   "execution_count": 28,
   "id": "9d91a29b",
   "metadata": {
    "execution": {
     "iopub.execute_input": "2024-05-11T02:16:05.117868Z",
     "iopub.status.busy": "2024-05-11T02:16:05.117206Z",
     "iopub.status.idle": "2024-05-11T02:16:05.120697Z",
     "shell.execute_reply": "2024-05-11T02:16:05.120233Z",
     "shell.execute_reply.started": "2022-03-07T11:16:02.845691Z"
    },
    "papermill": {
     "duration": 0.074658,
     "end_time": "2024-05-11T02:16:05.120801",
     "exception": false,
     "start_time": "2024-05-11T02:16:05.046143",
     "status": "completed"
    },
    "tags": []
   },
   "outputs": [
    {
     "data": {
      "text/plain": [
       "4202"
      ]
     },
     "execution_count": 28,
     "metadata": {},
     "output_type": "execute_result"
    }
   ],
   "source": [
    "len(Words_Freq)"
   ]
  },
  {
   "cell_type": "code",
   "execution_count": 29,
   "id": "1a4031a6",
   "metadata": {
    "execution": {
     "iopub.execute_input": "2024-05-11T02:16:05.261102Z",
     "iopub.status.busy": "2024-05-11T02:16:05.260568Z",
     "iopub.status.idle": "2024-05-11T02:16:05.262727Z",
     "shell.execute_reply": "2024-05-11T02:16:05.263088Z",
     "shell.execute_reply.started": "2022-03-07T11:16:02.852182Z"
    },
    "papermill": {
     "duration": 0.073842,
     "end_time": "2024-05-11T02:16:05.263211",
     "exception": false,
     "start_time": "2024-05-11T02:16:05.189369",
     "status": "completed"
    },
    "tags": []
   },
   "outputs": [],
   "source": [
    "# We have to reduce the number of words for processing capacity."
   ]
  },
  {
   "cell_type": "code",
   "execution_count": 30,
   "id": "eb0c2f6c",
   "metadata": {
    "execution": {
     "iopub.execute_input": "2024-05-11T02:16:05.413640Z",
     "iopub.status.busy": "2024-05-11T02:16:05.409311Z",
     "iopub.status.idle": "2024-05-11T02:16:05.416533Z",
     "shell.execute_reply": "2024-05-11T02:16:05.416033Z",
     "shell.execute_reply.started": "2022-03-07T11:16:02.864739Z"
    },
    "papermill": {
     "duration": 0.083633,
     "end_time": "2024-05-11T02:16:05.416642",
     "exception": false,
     "start_time": "2024-05-11T02:16:05.333009",
     "status": "completed"
    },
    "tags": []
   },
   "outputs": [
    {
     "name": "stdout",
     "output_type": "stream",
     "text": [
      "19803.076999999972\n",
      "20529.751999999964\n",
      "21670.046999999926\n",
      "22609.074000000095\n",
      "24278.224999999984\n",
      "25391.77599999999\n",
      "26753.605999999985\n",
      "27639.58599999999\n",
      "29412.64000000032\n"
     ]
    }
   ],
   "source": [
    "for i in [0.991, 0.992, 0.993, 0.994, 0.995, 0.996, 0.997, 0.998, 0.999]:\n",
    "    print(Words_Freq[\"Frequency\"].quantile(i))"
   ]
  },
  {
   "cell_type": "code",
   "execution_count": 31,
   "id": "e8cdfde0",
   "metadata": {
    "execution": {
     "iopub.execute_input": "2024-05-11T02:16:05.563494Z",
     "iopub.status.busy": "2024-05-11T02:16:05.562836Z",
     "iopub.status.idle": "2024-05-11T02:16:05.566510Z",
     "shell.execute_reply": "2024-05-11T02:16:05.565989Z",
     "shell.execute_reply.started": "2022-03-07T11:16:02.886596Z"
    },
    "papermill": {
     "duration": 0.081482,
     "end_time": "2024-05-11T02:16:05.566617",
     "exception": false,
     "start_time": "2024-05-11T02:16:05.485135",
     "status": "completed"
    },
    "tags": []
   },
   "outputs": [
    {
     "data": {
      "text/html": [
       "<div>\n",
       "<style scoped>\n",
       "    .dataframe tbody tr th:only-of-type {\n",
       "        vertical-align: middle;\n",
       "    }\n",
       "\n",
       "    .dataframe tbody tr th {\n",
       "        vertical-align: top;\n",
       "    }\n",
       "\n",
       "    .dataframe thead th {\n",
       "        text-align: right;\n",
       "    }\n",
       "</style>\n",
       "<table border=\"1\" class=\"dataframe\">\n",
       "  <thead>\n",
       "    <tr style=\"text-align: right;\">\n",
       "      <th></th>\n",
       "      <th>Word</th>\n",
       "      <th>Frequency</th>\n",
       "    </tr>\n",
       "  </thead>\n",
       "  <tbody>\n",
       "    <tr>\n",
       "      <th>71</th>\n",
       "      <td>SUPPOSED</td>\n",
       "      <td>3718</td>\n",
       "    </tr>\n",
       "    <tr>\n",
       "      <th>117</th>\n",
       "      <td>HEAR</td>\n",
       "      <td>3711</td>\n",
       "    </tr>\n",
       "    <tr>\n",
       "      <th>2096</th>\n",
       "      <td>FRIENDS.</td>\n",
       "      <td>3684</td>\n",
       "    </tr>\n",
       "    <tr>\n",
       "      <th>3339</th>\n",
       "      <td>MOTHER</td>\n",
       "      <td>3668</td>\n",
       "    </tr>\n",
       "    <tr>\n",
       "      <th>2387</th>\n",
       "      <td>LOVED</td>\n",
       "      <td>3617</td>\n",
       "    </tr>\n",
       "  </tbody>\n",
       "</table>\n",
       "</div>"
      ],
      "text/plain": [
       "          Word  Frequency\n",
       "71    SUPPOSED       3718\n",
       "117       HEAR       3711\n",
       "2096  FRIENDS.       3684\n",
       "3339    MOTHER       3668\n",
       "2387     LOVED       3617"
      ]
     },
     "execution_count": 31,
     "metadata": {},
     "output_type": "execute_result"
    }
   ],
   "source": [
    "Words_Freq = Words_Freq[Words_Freq[\"Frequency\"] >= 3615.8130000000237]\n",
    "Words_Freq.tail()"
   ]
  },
  {
   "cell_type": "code",
   "execution_count": 32,
   "id": "33a9f8a2",
   "metadata": {
    "execution": {
     "iopub.execute_input": "2024-05-11T02:16:05.709670Z",
     "iopub.status.busy": "2024-05-11T02:16:05.708879Z",
     "iopub.status.idle": "2024-05-11T02:16:05.713335Z",
     "shell.execute_reply": "2024-05-11T02:16:05.713827Z",
     "shell.execute_reply.started": "2022-03-07T11:16:02.898325Z"
    },
    "papermill": {
     "duration": 0.078721,
     "end_time": "2024-05-11T02:16:05.713971",
     "exception": false,
     "start_time": "2024-05-11T02:16:05.635250",
     "status": "completed"
    },
    "tags": []
   },
   "outputs": [
    {
     "data": {
      "text/plain": [
       "380"
      ]
     },
     "execution_count": 32,
     "metadata": {},
     "output_type": "execute_result"
    }
   ],
   "source": [
    "len(Words_Freq)"
   ]
  },
  {
   "cell_type": "code",
   "execution_count": 33,
   "id": "d02d0d6b",
   "metadata": {
    "execution": {
     "iopub.execute_input": "2024-05-11T02:16:05.857380Z",
     "iopub.status.busy": "2024-05-11T02:16:05.856691Z",
     "iopub.status.idle": "2024-05-11T02:16:05.860335Z",
     "shell.execute_reply": "2024-05-11T02:16:05.860794Z",
     "shell.execute_reply.started": "2022-03-07T11:16:02.911908Z"
    },
    "papermill": {
     "duration": 0.076263,
     "end_time": "2024-05-11T02:16:05.860960",
     "exception": false,
     "start_time": "2024-05-11T02:16:05.784697",
     "status": "completed"
    },
    "tags": []
   },
   "outputs": [],
   "source": [
    "# We get a good list of words. However we might have to reduce this list further based on capacity."
   ]
  },
  {
   "cell_type": "code",
   "execution_count": 34,
   "id": "cdab1c05",
   "metadata": {
    "execution": {
     "iopub.execute_input": "2024-05-11T02:16:06.004050Z",
     "iopub.status.busy": "2024-05-11T02:16:06.003346Z",
     "iopub.status.idle": "2024-05-11T02:16:06.007487Z",
     "shell.execute_reply": "2024-05-11T02:16:06.007977Z",
     "shell.execute_reply.started": "2022-03-07T11:16:02.922732Z"
    },
    "papermill": {
     "duration": 0.077077,
     "end_time": "2024-05-11T02:16:06.008158",
     "exception": false,
     "start_time": "2024-05-11T02:16:05.931081",
     "status": "completed"
    },
    "tags": []
   },
   "outputs": [],
   "source": [
    "# We will create separate variables for each of these words based on their presence in the posts."
   ]
  },
  {
   "cell_type": "code",
   "execution_count": 35,
   "id": "be57aea7",
   "metadata": {
    "execution": {
     "iopub.execute_input": "2024-05-11T02:16:06.154714Z",
     "iopub.status.busy": "2024-05-11T02:16:06.153997Z",
     "iopub.status.idle": "2024-05-11T02:24:01.076358Z",
     "shell.execute_reply": "2024-05-11T02:24:01.076795Z",
     "shell.execute_reply.started": "2022-03-07T11:16:02.934448Z"
    },
    "papermill": {
     "duration": 474.997175,
     "end_time": "2024-05-11T02:24:01.076937",
     "exception": false,
     "start_time": "2024-05-11T02:16:06.079762",
     "status": "completed"
    },
    "tags": []
   },
   "outputs": [
    {
     "data": {
      "text/html": [
       "<div>\n",
       "<style scoped>\n",
       "    .dataframe tbody tr th:only-of-type {\n",
       "        vertical-align: middle;\n",
       "    }\n",
       "\n",
       "    .dataframe tbody tr th {\n",
       "        vertical-align: top;\n",
       "    }\n",
       "\n",
       "    .dataframe thead th {\n",
       "        text-align: right;\n",
       "    }\n",
       "</style>\n",
       "<table border=\"1\" class=\"dataframe\">\n",
       "  <thead>\n",
       "    <tr style=\"text-align: right;\">\n",
       "      <th></th>\n",
       "      <th>class</th>\n",
       "      <th>Length</th>\n",
       "      <th>SOME</th>\n",
       "      <th>ME.</th>\n",
       "      <th>FILLER</th>\n",
       "      <th>WE</th>\n",
       "      <th>HAS</th>\n",
       "      <th>FUCKING</th>\n",
       "      <th>WHY</th>\n",
       "      <th>BEING</th>\n",
       "      <th>...</th>\n",
       "      <th>WEIRD</th>\n",
       "      <th>WHAT'S</th>\n",
       "      <th>LONGER</th>\n",
       "      <th>OTHERS</th>\n",
       "      <th>THANK</th>\n",
       "      <th>SUPPOSED</th>\n",
       "      <th>HEAR</th>\n",
       "      <th>FRIENDS.</th>\n",
       "      <th>MOTHER</th>\n",
       "      <th>LOVED</th>\n",
       "    </tr>\n",
       "  </thead>\n",
       "  <tbody>\n",
       "    <tr>\n",
       "      <th>0</th>\n",
       "      <td>suicide</td>\n",
       "      <td>143</td>\n",
       "      <td>0</td>\n",
       "      <td>0</td>\n",
       "      <td>0</td>\n",
       "      <td>0</td>\n",
       "      <td>1</td>\n",
       "      <td>0</td>\n",
       "      <td>0</td>\n",
       "      <td>0</td>\n",
       "      <td>...</td>\n",
       "      <td>0</td>\n",
       "      <td>0</td>\n",
       "      <td>0</td>\n",
       "      <td>0</td>\n",
       "      <td>0</td>\n",
       "      <td>1</td>\n",
       "      <td>0</td>\n",
       "      <td>0</td>\n",
       "      <td>0</td>\n",
       "      <td>0</td>\n",
       "    </tr>\n",
       "    <tr>\n",
       "      <th>1</th>\n",
       "      <td>non-suicide</td>\n",
       "      <td>27</td>\n",
       "      <td>0</td>\n",
       "      <td>0</td>\n",
       "      <td>0</td>\n",
       "      <td>0</td>\n",
       "      <td>0</td>\n",
       "      <td>0</td>\n",
       "      <td>0</td>\n",
       "      <td>0</td>\n",
       "      <td>...</td>\n",
       "      <td>1</td>\n",
       "      <td>0</td>\n",
       "      <td>0</td>\n",
       "      <td>0</td>\n",
       "      <td>0</td>\n",
       "      <td>0</td>\n",
       "      <td>0</td>\n",
       "      <td>0</td>\n",
       "      <td>0</td>\n",
       "      <td>0</td>\n",
       "    </tr>\n",
       "    <tr>\n",
       "      <th>2</th>\n",
       "      <td>non-suicide</td>\n",
       "      <td>26</td>\n",
       "      <td>0</td>\n",
       "      <td>0</td>\n",
       "      <td>0</td>\n",
       "      <td>0</td>\n",
       "      <td>1</td>\n",
       "      <td>1</td>\n",
       "      <td>0</td>\n",
       "      <td>0</td>\n",
       "      <td>...</td>\n",
       "      <td>0</td>\n",
       "      <td>0</td>\n",
       "      <td>0</td>\n",
       "      <td>0</td>\n",
       "      <td>0</td>\n",
       "      <td>0</td>\n",
       "      <td>1</td>\n",
       "      <td>0</td>\n",
       "      <td>0</td>\n",
       "      <td>0</td>\n",
       "    </tr>\n",
       "    <tr>\n",
       "      <th>3</th>\n",
       "      <td>suicide</td>\n",
       "      <td>9</td>\n",
       "      <td>0</td>\n",
       "      <td>0</td>\n",
       "      <td>0</td>\n",
       "      <td>0</td>\n",
       "      <td>0</td>\n",
       "      <td>0</td>\n",
       "      <td>0</td>\n",
       "      <td>0</td>\n",
       "      <td>...</td>\n",
       "      <td>0</td>\n",
       "      <td>0</td>\n",
       "      <td>0</td>\n",
       "      <td>0</td>\n",
       "      <td>0</td>\n",
       "      <td>0</td>\n",
       "      <td>0</td>\n",
       "      <td>0</td>\n",
       "      <td>0</td>\n",
       "      <td>0</td>\n",
       "    </tr>\n",
       "    <tr>\n",
       "      <th>5</th>\n",
       "      <td>suicide</td>\n",
       "      <td>289</td>\n",
       "      <td>0</td>\n",
       "      <td>1</td>\n",
       "      <td>0</td>\n",
       "      <td>0</td>\n",
       "      <td>0</td>\n",
       "      <td>0</td>\n",
       "      <td>0</td>\n",
       "      <td>1</td>\n",
       "      <td>...</td>\n",
       "      <td>0</td>\n",
       "      <td>0</td>\n",
       "      <td>0</td>\n",
       "      <td>0</td>\n",
       "      <td>0</td>\n",
       "      <td>0</td>\n",
       "      <td>0</td>\n",
       "      <td>0</td>\n",
       "      <td>0</td>\n",
       "      <td>0</td>\n",
       "    </tr>\n",
       "  </tbody>\n",
       "</table>\n",
       "<p>5 rows × 382 columns</p>\n",
       "</div>"
      ],
      "text/plain": [
       "         class  Length  SOME  ME.  FILLER  WE  HAS  FUCKING  WHY  BEING  ...  \\\n",
       "0      suicide     143     0    0       0   0    1        0    0      0  ...   \n",
       "1  non-suicide      27     0    0       0   0    0        0    0      0  ...   \n",
       "2  non-suicide      26     0    0       0   0    1        1    0      0  ...   \n",
       "3      suicide       9     0    0       0   0    0        0    0      0  ...   \n",
       "5      suicide     289     0    1       0   0    0        0    0      1  ...   \n",
       "\n",
       "   WEIRD  WHAT'S  LONGER  OTHERS  THANK  SUPPOSED  HEAR  FRIENDS.  MOTHER  \\\n",
       "0      0       0       0       0      0         1     0         0       0   \n",
       "1      1       0       0       0      0         0     0         0       0   \n",
       "2      0       0       0       0      0         0     1         0       0   \n",
       "3      0       0       0       0      0         0     0         0       0   \n",
       "5      0       0       0       0      0         0     0         0       0   \n",
       "\n",
       "   LOVED  \n",
       "0      0  \n",
       "1      0  \n",
       "2      0  \n",
       "3      0  \n",
       "5      0  \n",
       "\n",
       "[5 rows x 382 columns]"
      ]
     },
     "execution_count": 35,
     "metadata": {},
     "output_type": "execute_result"
    }
   ],
   "source": [
    "Final_Words = list(Words_Freq.Word)\n",
    "for i in Final_Words:\n",
    "    Suicide[i] = Suicide[\"text\"].apply(lambda x: 1 if i in x.upper().split(\" \") else 0)\n",
    "Suicide.drop(\"text\", axis=1, inplace=True)\n",
    "Suicide.head()"
   ]
  },
  {
   "cell_type": "code",
   "execution_count": 36,
   "id": "e3b04f66",
   "metadata": {
    "execution": {
     "iopub.execute_input": "2024-05-11T02:24:01.224668Z",
     "iopub.status.busy": "2024-05-11T02:24:01.223963Z",
     "iopub.status.idle": "2024-05-11T02:24:01.228057Z",
     "shell.execute_reply": "2024-05-11T02:24:01.227445Z",
     "shell.execute_reply.started": "2022-03-07T11:26:10.693191Z"
    },
    "papermill": {
     "duration": 0.081206,
     "end_time": "2024-05-11T02:24:01.228183",
     "exception": false,
     "start_time": "2024-05-11T02:24:01.146977",
     "status": "completed"
    },
    "tags": []
   },
   "outputs": [
    {
     "data": {
      "text/plain": [
       "LEAST\n",
       "0    203642\n",
       "1      5313\n",
       "Name: count, dtype: int64"
      ]
     },
     "execution_count": 36,
     "metadata": {},
     "output_type": "execute_result"
    }
   ],
   "source": [
    "Suicide[\"LEAST\"].value_counts()"
   ]
  },
  {
   "cell_type": "code",
   "execution_count": 37,
   "id": "405c7d9b",
   "metadata": {
    "execution": {
     "iopub.execute_input": "2024-05-11T02:24:01.375620Z",
     "iopub.status.busy": "2024-05-11T02:24:01.372475Z",
     "iopub.status.idle": "2024-05-11T02:24:01.454504Z",
     "shell.execute_reply": "2024-05-11T02:24:01.454920Z",
     "shell.execute_reply.started": "2022-03-07T11:26:10.705504Z"
    },
    "papermill": {
     "duration": 0.155988,
     "end_time": "2024-05-11T02:24:01.455061",
     "exception": false,
     "start_time": "2024-05-11T02:24:01.299073",
     "status": "completed"
    },
    "tags": []
   },
   "outputs": [
    {
     "data": {
      "text/html": [
       "<div>\n",
       "<style scoped>\n",
       "    .dataframe tbody tr th:only-of-type {\n",
       "        vertical-align: middle;\n",
       "    }\n",
       "\n",
       "    .dataframe tbody tr th {\n",
       "        vertical-align: top;\n",
       "    }\n",
       "\n",
       "    .dataframe thead th {\n",
       "        text-align: right;\n",
       "    }\n",
       "</style>\n",
       "<table border=\"1\" class=\"dataframe\">\n",
       "  <thead>\n",
       "    <tr style=\"text-align: right;\">\n",
       "      <th></th>\n",
       "      <th>class</th>\n",
       "      <th>Length</th>\n",
       "      <th>SOME</th>\n",
       "      <th>ME.</th>\n",
       "      <th>FILLER</th>\n",
       "      <th>WE</th>\n",
       "      <th>HAS</th>\n",
       "      <th>FUCKING</th>\n",
       "      <th>WHY</th>\n",
       "      <th>BEING</th>\n",
       "      <th>...</th>\n",
       "      <th>WEIRD</th>\n",
       "      <th>WHAT'S</th>\n",
       "      <th>LONGER</th>\n",
       "      <th>OTHERS</th>\n",
       "      <th>THANK</th>\n",
       "      <th>SUPPOSED</th>\n",
       "      <th>HEAR</th>\n",
       "      <th>FRIENDS.</th>\n",
       "      <th>MOTHER</th>\n",
       "      <th>LOVED</th>\n",
       "    </tr>\n",
       "  </thead>\n",
       "  <tbody>\n",
       "    <tr>\n",
       "      <th>0</th>\n",
       "      <td>1</td>\n",
       "      <td>143</td>\n",
       "      <td>0</td>\n",
       "      <td>0</td>\n",
       "      <td>0</td>\n",
       "      <td>0</td>\n",
       "      <td>1</td>\n",
       "      <td>0</td>\n",
       "      <td>0</td>\n",
       "      <td>0</td>\n",
       "      <td>...</td>\n",
       "      <td>0</td>\n",
       "      <td>0</td>\n",
       "      <td>0</td>\n",
       "      <td>0</td>\n",
       "      <td>0</td>\n",
       "      <td>1</td>\n",
       "      <td>0</td>\n",
       "      <td>0</td>\n",
       "      <td>0</td>\n",
       "      <td>0</td>\n",
       "    </tr>\n",
       "    <tr>\n",
       "      <th>1</th>\n",
       "      <td>0</td>\n",
       "      <td>27</td>\n",
       "      <td>0</td>\n",
       "      <td>0</td>\n",
       "      <td>0</td>\n",
       "      <td>0</td>\n",
       "      <td>0</td>\n",
       "      <td>0</td>\n",
       "      <td>0</td>\n",
       "      <td>0</td>\n",
       "      <td>...</td>\n",
       "      <td>1</td>\n",
       "      <td>0</td>\n",
       "      <td>0</td>\n",
       "      <td>0</td>\n",
       "      <td>0</td>\n",
       "      <td>0</td>\n",
       "      <td>0</td>\n",
       "      <td>0</td>\n",
       "      <td>0</td>\n",
       "      <td>0</td>\n",
       "    </tr>\n",
       "    <tr>\n",
       "      <th>2</th>\n",
       "      <td>0</td>\n",
       "      <td>26</td>\n",
       "      <td>0</td>\n",
       "      <td>0</td>\n",
       "      <td>0</td>\n",
       "      <td>0</td>\n",
       "      <td>1</td>\n",
       "      <td>1</td>\n",
       "      <td>0</td>\n",
       "      <td>0</td>\n",
       "      <td>...</td>\n",
       "      <td>0</td>\n",
       "      <td>0</td>\n",
       "      <td>0</td>\n",
       "      <td>0</td>\n",
       "      <td>0</td>\n",
       "      <td>0</td>\n",
       "      <td>1</td>\n",
       "      <td>0</td>\n",
       "      <td>0</td>\n",
       "      <td>0</td>\n",
       "    </tr>\n",
       "    <tr>\n",
       "      <th>3</th>\n",
       "      <td>1</td>\n",
       "      <td>9</td>\n",
       "      <td>0</td>\n",
       "      <td>0</td>\n",
       "      <td>0</td>\n",
       "      <td>0</td>\n",
       "      <td>0</td>\n",
       "      <td>0</td>\n",
       "      <td>0</td>\n",
       "      <td>0</td>\n",
       "      <td>...</td>\n",
       "      <td>0</td>\n",
       "      <td>0</td>\n",
       "      <td>0</td>\n",
       "      <td>0</td>\n",
       "      <td>0</td>\n",
       "      <td>0</td>\n",
       "      <td>0</td>\n",
       "      <td>0</td>\n",
       "      <td>0</td>\n",
       "      <td>0</td>\n",
       "    </tr>\n",
       "    <tr>\n",
       "      <th>5</th>\n",
       "      <td>1</td>\n",
       "      <td>289</td>\n",
       "      <td>0</td>\n",
       "      <td>1</td>\n",
       "      <td>0</td>\n",
       "      <td>0</td>\n",
       "      <td>0</td>\n",
       "      <td>0</td>\n",
       "      <td>0</td>\n",
       "      <td>1</td>\n",
       "      <td>...</td>\n",
       "      <td>0</td>\n",
       "      <td>0</td>\n",
       "      <td>0</td>\n",
       "      <td>0</td>\n",
       "      <td>0</td>\n",
       "      <td>0</td>\n",
       "      <td>0</td>\n",
       "      <td>0</td>\n",
       "      <td>0</td>\n",
       "      <td>0</td>\n",
       "    </tr>\n",
       "  </tbody>\n",
       "</table>\n",
       "<p>5 rows × 382 columns</p>\n",
       "</div>"
      ],
      "text/plain": [
       "   class  Length  SOME  ME.  FILLER  WE  HAS  FUCKING  WHY  BEING  ...  WEIRD  \\\n",
       "0      1     143     0    0       0   0    1        0    0      0  ...      0   \n",
       "1      0      27     0    0       0   0    0        0    0      0  ...      1   \n",
       "2      0      26     0    0       0   0    1        1    0      0  ...      0   \n",
       "3      1       9     0    0       0   0    0        0    0      0  ...      0   \n",
       "5      1     289     0    1       0   0    0        0    0      1  ...      0   \n",
       "\n",
       "   WHAT'S  LONGER  OTHERS  THANK  SUPPOSED  HEAR  FRIENDS.  MOTHER  LOVED  \n",
       "0       0       0       0      0         1     0         0       0      0  \n",
       "1       0       0       0      0         0     0         0       0      0  \n",
       "2       0       0       0      0         0     1         0       0      0  \n",
       "3       0       0       0      0         0     0         0       0      0  \n",
       "5       0       0       0      0         0     0         0       0      0  \n",
       "\n",
       "[5 rows x 382 columns]"
      ]
     },
     "execution_count": 37,
     "metadata": {},
     "output_type": "execute_result"
    }
   ],
   "source": [
    "Suicide[\"class\"] = Suicide[\"class\"].apply(lambda x: 1 if x == \"suicide\" else 0)\n",
    "Suicide.head()"
   ]
  },
  {
   "cell_type": "code",
   "execution_count": 38,
   "id": "7b004f05",
   "metadata": {
    "execution": {
     "iopub.execute_input": "2024-05-11T02:24:01.601340Z",
     "iopub.status.busy": "2024-05-11T02:24:01.600821Z",
     "iopub.status.idle": "2024-05-11T02:24:01.602778Z",
     "shell.execute_reply": "2024-05-11T02:24:01.603203Z",
     "shell.execute_reply.started": "2022-03-07T11:26:10.861562Z"
    },
    "papermill": {
     "duration": 0.077113,
     "end_time": "2024-05-11T02:24:01.603357",
     "exception": false,
     "start_time": "2024-05-11T02:24:01.526244",
     "status": "completed"
    },
    "tags": []
   },
   "outputs": [],
   "source": [
    "# EDA"
   ]
  },
  {
   "cell_type": "code",
   "execution_count": 39,
   "id": "a776b76d",
   "metadata": {
    "execution": {
     "iopub.execute_input": "2024-05-11T02:24:01.752906Z",
     "iopub.status.busy": "2024-05-11T02:24:01.752278Z",
     "iopub.status.idle": "2024-05-11T02:24:04.443595Z",
     "shell.execute_reply": "2024-05-11T02:24:04.444097Z",
     "shell.execute_reply.started": "2022-03-07T11:26:10.866984Z"
    },
    "papermill": {
     "duration": 2.768692,
     "end_time": "2024-05-11T02:24:04.444247",
     "exception": false,
     "start_time": "2024-05-11T02:24:01.675555",
     "status": "completed"
    },
    "tags": []
   },
   "outputs": [
    {
     "data": {
      "image/png": "[encoded data removed]",
      "text/plain": [
       "<Figure size 1200x500 with 1 Axes>"
      ]
     },
     "metadata": {},
     "output_type": "display_data"
    }
   ],
   "source": [
    "plt.figure(figsize=(12, 5))\n",
    "sns.barplot(x=\"class\", y=\"Length\", data=Suicide)\n",
    "plt.title(\"Class vs Length\")\n",
    "plt.show()"
   ]
  },
  {
   "cell_type": "code",
   "execution_count": 40,
   "id": "64bc698d",
   "metadata": {
    "execution": {
     "iopub.execute_input": "2024-05-11T02:24:04.589451Z",
     "iopub.status.busy": "2024-05-11T02:24:04.588858Z",
     "iopub.status.idle": "2024-05-11T02:24:04.591478Z",
     "shell.execute_reply": "2024-05-11T02:24:04.591981Z",
     "shell.execute_reply.started": "2022-03-07T11:26:13.980889Z"
    },
    "papermill": {
     "duration": 0.076955,
     "end_time": "2024-05-11T02:24:04.592133",
     "exception": false,
     "start_time": "2024-05-11T02:24:04.515178",
     "status": "completed"
    },
    "tags": []
   },
   "outputs": [],
   "source": [
    "# Since there are a still quite a lot of words we will check only the words with the highest correlation with the target variable."
   ]
  },
  {
   "cell_type": "code",
   "execution_count": 41,
   "id": "ba33414d",
   "metadata": {
    "execution": {
     "iopub.execute_input": "2024-05-11T02:24:04.737007Z",
     "iopub.status.busy": "2024-05-11T02:24:04.736521Z",
     "iopub.status.idle": "2024-05-11T02:24:04.739334Z",
     "shell.execute_reply": "2024-05-11T02:24:04.739799Z",
     "shell.execute_reply.started": "2022-03-07T11:26:13.985962Z"
    },
    "papermill": {
     "duration": 0.076739,
     "end_time": "2024-05-11T02:24:04.739915",
     "exception": false,
     "start_time": "2024-05-11T02:24:04.663176",
     "status": "completed"
    },
    "tags": []
   },
   "outputs": [],
   "source": [
    "from scipy.stats import pearsonr"
   ]
  },
  {
   "cell_type": "code",
   "execution_count": 42,
   "id": "e340b4b8",
   "metadata": {
    "execution": {
     "iopub.execute_input": "2024-05-11T02:24:04.886697Z",
     "iopub.status.busy": "2024-05-11T02:24:04.886201Z",
     "iopub.status.idle": "2024-05-11T02:24:06.018400Z",
     "shell.execute_reply": "2024-05-11T02:24:06.018924Z",
     "shell.execute_reply.started": "2022-03-07T11:26:13.998576Z"
    },
    "papermill": {
     "duration": 1.207,
     "end_time": "2024-05-11T02:24:06.019092",
     "exception": false,
     "start_time": "2024-05-11T02:24:04.812092",
     "status": "completed"
    },
    "tags": []
   },
   "outputs": [
    {
     "data": {
      "text/html": [
       "<div>\n",
       "<style scoped>\n",
       "    .dataframe tbody tr th:only-of-type {\n",
       "        vertical-align: middle;\n",
       "    }\n",
       "\n",
       "    .dataframe tbody tr th {\n",
       "        vertical-align: top;\n",
       "    }\n",
       "\n",
       "    .dataframe thead th {\n",
       "        text-align: right;\n",
       "    }\n",
       "</style>\n",
       "<table border=\"1\" class=\"dataframe\">\n",
       "  <thead>\n",
       "    <tr style=\"text-align: right;\">\n",
       "      <th></th>\n",
       "      <th>Feature</th>\n",
       "      <th>Correlation</th>\n",
       "    </tr>\n",
       "  </thead>\n",
       "  <tbody>\n",
       "    <tr>\n",
       "      <th>0</th>\n",
       "      <td>Length</td>\n",
       "      <td>0.458362</td>\n",
       "    </tr>\n",
       "    <tr>\n",
       "      <th>23</th>\n",
       "      <td>KILL</td>\n",
       "      <td>0.309071</td>\n",
       "    </tr>\n",
       "    <tr>\n",
       "      <th>2</th>\n",
       "      <td>ME.</td>\n",
       "      <td>0.279329</td>\n",
       "    </tr>\n",
       "    <tr>\n",
       "      <th>63</th>\n",
       "      <td>SUICIDE</td>\n",
       "      <td>0.271519</td>\n",
       "    </tr>\n",
       "    <tr>\n",
       "      <th>37</th>\n",
       "      <td>END</td>\n",
       "      <td>0.257212</td>\n",
       "    </tr>\n",
       "    <tr>\n",
       "      <th>73</th>\n",
       "      <td>ANYMORE.</td>\n",
       "      <td>0.247672</td>\n",
       "    </tr>\n",
       "    <tr>\n",
       "      <th>47</th>\n",
       "      <td>LIVE</td>\n",
       "      <td>0.228209</td>\n",
       "    </tr>\n",
       "    <tr>\n",
       "      <th>119</th>\n",
       "      <td>MYSELF.</td>\n",
       "      <td>0.222832</td>\n",
       "    </tr>\n",
       "    <tr>\n",
       "      <th>13</th>\n",
       "      <td>IT.</td>\n",
       "      <td>0.222543</td>\n",
       "    </tr>\n",
       "    <tr>\n",
       "      <th>132</th>\n",
       "      <td>SUICIDAL</td>\n",
       "      <td>0.219771</td>\n",
       "    </tr>\n",
       "  </tbody>\n",
       "</table>\n",
       "</div>"
      ],
      "text/plain": [
       "      Feature  Correlation\n",
       "0      Length     0.458362\n",
       "23       KILL     0.309071\n",
       "2         ME.     0.279329\n",
       "63    SUICIDE     0.271519\n",
       "37        END     0.257212\n",
       "73   ANYMORE.     0.247672\n",
       "47       LIVE     0.228209\n",
       "119   MYSELF.     0.222832\n",
       "13        IT.     0.222543\n",
       "132  SUICIDAL     0.219771"
      ]
     },
     "execution_count": 42,
     "metadata": {},
     "output_type": "execute_result"
    }
   ],
   "source": [
    "Correlations = dict()\n",
    "var = list(Suicide.columns)\n",
    "var.remove(\"class\")\n",
    "for i in var:\n",
    "    Correlations[i] = pearsonr(Suicide[i], Suicide[\"class\"])[0]\n",
    "Correlations = pd.DataFrame(\n",
    "    {\"Feature\": list(Correlations.keys()), \"Correlation\": list(Correlations.values())}\n",
    ")\n",
    "Correlations.sort_values(\"Correlation\", ascending=False, inplace=True)\n",
    "Correlations.set_index(\"Feature\")\n",
    "Correlations.head(10)"
   ]
  },
  {
   "cell_type": "code",
   "execution_count": 43,
   "id": "d58d3917",
   "metadata": {
    "execution": {
     "iopub.execute_input": "2024-05-11T02:24:06.204076Z",
     "iopub.status.busy": "2024-05-11T02:24:06.197058Z",
     "iopub.status.idle": "2024-05-11T02:24:06.398321Z",
     "shell.execute_reply": "2024-05-11T02:24:06.398930Z",
     "shell.execute_reply.started": "2022-03-07T11:26:15.88275Z"
    },
    "papermill": {
     "duration": 0.287028,
     "end_time": "2024-05-11T02:24:06.399078",
     "exception": false,
     "start_time": "2024-05-11T02:24:06.112050",
     "status": "completed"
    },
    "tags": []
   },
   "outputs": [
    {
     "data": {
      "image/png": "[encoded data removed]",
      "text/plain": [
       "<Figure size 1500x500 with 1 Axes>"
      ]
     },
     "metadata": {},
     "output_type": "display_data"
    }
   ],
   "source": [
    "temp = Correlations.head(15)\n",
    "plt.figure(figsize=(15, 5))\n",
    "sns.barplot(x=temp.Correlation, y=temp.Feature)\n",
    "plt.title(\"Feature vs Correlation\")\n",
    "plt.show()"
   ]
  },
  {
   "cell_type": "code",
   "execution_count": 44,
   "id": "e53c7268",
   "metadata": {
    "execution": {
     "iopub.execute_input": "2024-05-11T02:24:06.552207Z",
     "iopub.status.busy": "2024-05-11T02:24:06.551720Z",
     "iopub.status.idle": "2024-05-11T02:24:06.553852Z",
     "shell.execute_reply": "2024-05-11T02:24:06.554218Z",
     "shell.execute_reply.started": "2022-03-07T11:26:16.200522Z"
    },
    "papermill": {
     "duration": 0.078458,
     "end_time": "2024-05-11T02:24:06.554338",
     "exception": false,
     "start_time": "2024-05-11T02:24:06.475880",
     "status": "completed"
    },
    "tags": []
   },
   "outputs": [],
   "source": [
    "# As we can see the correlations are not high considering the non linear relationship between the variables."
   ]
  },
  {
   "cell_type": "code",
   "execution_count": 45,
   "id": "6d04f80a",
   "metadata": {
    "execution": {
     "iopub.execute_input": "2024-05-11T02:24:06.716514Z",
     "iopub.status.busy": "2024-05-11T02:24:06.716033Z",
     "iopub.status.idle": "2024-05-11T02:24:06.724812Z",
     "shell.execute_reply": "2024-05-11T02:24:06.724314Z",
     "shell.execute_reply.started": "2022-03-07T11:26:16.210691Z"
    },
    "papermill": {
     "duration": 0.084721,
     "end_time": "2024-05-11T02:24:06.724918",
     "exception": false,
     "start_time": "2024-05-11T02:24:06.640197",
     "status": "completed"
    },
    "tags": []
   },
   "outputs": [
    {
     "data": {
      "text/html": [
       "<div>\n",
       "<style scoped>\n",
       "    .dataframe tbody tr th:only-of-type {\n",
       "        vertical-align: middle;\n",
       "    }\n",
       "\n",
       "    .dataframe tbody tr th {\n",
       "        vertical-align: top;\n",
       "    }\n",
       "\n",
       "    .dataframe thead th {\n",
       "        text-align: right;\n",
       "    }\n",
       "</style>\n",
       "<table border=\"1\" class=\"dataframe\">\n",
       "  <thead>\n",
       "    <tr style=\"text-align: right;\">\n",
       "      <th></th>\n",
       "      <th>Feature</th>\n",
       "      <th>Correlation</th>\n",
       "    </tr>\n",
       "  </thead>\n",
       "  <tbody>\n",
       "    <tr>\n",
       "      <th>106</th>\n",
       "      <td>WANNA</td>\n",
       "      <td>-0.029934</td>\n",
       "    </tr>\n",
       "    <tr>\n",
       "      <th>371</th>\n",
       "      <td>WEIRD</td>\n",
       "      <td>-0.031056</td>\n",
       "    </tr>\n",
       "    <tr>\n",
       "      <th>246</th>\n",
       "      <td>IDK</td>\n",
       "      <td>-0.032433</td>\n",
       "    </tr>\n",
       "    <tr>\n",
       "      <th>4</th>\n",
       "      <td>WE</td>\n",
       "      <td>-0.032647</td>\n",
       "    </tr>\n",
       "    <tr>\n",
       "      <th>230</th>\n",
       "      <td>US</td>\n",
       "      <td>-0.032701</td>\n",
       "    </tr>\n",
       "    <tr>\n",
       "      <th>344</th>\n",
       "      <td>CLASS</td>\n",
       "      <td>-0.047545</td>\n",
       "    </tr>\n",
       "    <tr>\n",
       "      <th>151</th>\n",
       "      <td>GIRL</td>\n",
       "      <td>-0.047838</td>\n",
       "    </tr>\n",
       "    <tr>\n",
       "      <th>281</th>\n",
       "      <td>REDDIT</td>\n",
       "      <td>-0.048870</td>\n",
       "    </tr>\n",
       "    <tr>\n",
       "      <th>270</th>\n",
       "      <td>KINDA</td>\n",
       "      <td>-0.054916</td>\n",
       "    </tr>\n",
       "    <tr>\n",
       "      <th>286</th>\n",
       "      <td>PLAY</td>\n",
       "      <td>-0.059581</td>\n",
       "    </tr>\n",
       "    <tr>\n",
       "      <th>334</th>\n",
       "      <td>GIRLS</td>\n",
       "      <td>-0.064615</td>\n",
       "    </tr>\n",
       "    <tr>\n",
       "      <th>18</th>\n",
       "      <td>YOUR</td>\n",
       "      <td>-0.070825</td>\n",
       "    </tr>\n",
       "    <tr>\n",
       "      <th>298</th>\n",
       "      <td>U</td>\n",
       "      <td>-0.078854</td>\n",
       "    </tr>\n",
       "    <tr>\n",
       "      <th>3</th>\n",
       "      <td>FILLER</td>\n",
       "      <td>-0.100234</td>\n",
       "    </tr>\n",
       "    <tr>\n",
       "      <th>160</th>\n",
       "      <td>GUYS</td>\n",
       "      <td>-0.101048</td>\n",
       "    </tr>\n",
       "  </tbody>\n",
       "</table>\n",
       "</div>"
      ],
      "text/plain": [
       "    Feature  Correlation\n",
       "106   WANNA    -0.029934\n",
       "371   WEIRD    -0.031056\n",
       "246     IDK    -0.032433\n",
       "4        WE    -0.032647\n",
       "230      US    -0.032701\n",
       "344   CLASS    -0.047545\n",
       "151    GIRL    -0.047838\n",
       "281  REDDIT    -0.048870\n",
       "270   KINDA    -0.054916\n",
       "286    PLAY    -0.059581\n",
       "334   GIRLS    -0.064615\n",
       "18     YOUR    -0.070825\n",
       "298       U    -0.078854\n",
       "3    FILLER    -0.100234\n",
       "160    GUYS    -0.101048"
      ]
     },
     "execution_count": 45,
     "metadata": {},
     "output_type": "execute_result"
    }
   ],
   "source": [
    "Correlations.tail(15)"
   ]
  },
  {
   "cell_type": "code",
   "execution_count": 46,
   "id": "efcccfc7",
   "metadata": {
    "execution": {
     "iopub.execute_input": "2024-05-11T02:24:06.880194Z",
     "iopub.status.busy": "2024-05-11T02:24:06.879395Z",
     "iopub.status.idle": "2024-05-11T02:24:07.085914Z",
     "shell.execute_reply": "2024-05-11T02:24:07.085362Z",
     "shell.execute_reply.started": "2022-03-07T11:26:16.225792Z"
    },
    "papermill": {
     "duration": 0.288349,
     "end_time": "2024-05-11T02:24:07.086037",
     "exception": false,
     "start_time": "2024-05-11T02:24:06.797688",
     "status": "completed"
    },
    "tags": []
   },
   "outputs": [
    {
     "data": {
      "image/png": "[encoded data removed]",
      "text/plain": [
       "<Figure size 1500x500 with 1 Axes>"
      ]
     },
     "metadata": {},
     "output_type": "display_data"
    }
   ],
   "source": [
    "temp = Correlations.tail(15)\n",
    "plt.figure(figsize=(15, 5))\n",
    "sns.barplot(x=temp.Correlation, y=temp.Feature)\n",
    "plt.title(\"Feature vs Correlation\")\n",
    "plt.show()"
   ]
  },
  {
   "cell_type": "code",
   "execution_count": 47,
   "id": "5b2a4c34",
   "metadata": {
    "execution": {
     "iopub.execute_input": "2024-05-11T02:24:07.239695Z",
     "iopub.status.busy": "2024-05-11T02:24:07.239111Z",
     "iopub.status.idle": "2024-05-11T02:24:07.241143Z",
     "shell.execute_reply": "2024-05-11T02:24:07.240708Z",
     "shell.execute_reply.started": "2022-03-07T11:26:16.509818Z"
    },
    "papermill": {
     "duration": 0.079531,
     "end_time": "2024-05-11T02:24:07.241259",
     "exception": false,
     "start_time": "2024-05-11T02:24:07.161728",
     "status": "completed"
    },
    "tags": []
   },
   "outputs": [],
   "source": [
    "# here we get the highest negative correlations."
   ]
  },
  {
   "cell_type": "code",
   "execution_count": 48,
   "id": "4b359f02",
   "metadata": {
    "execution": {
     "iopub.execute_input": "2024-05-11T02:24:07.391223Z",
     "iopub.status.busy": "2024-05-11T02:24:07.390755Z",
     "iopub.status.idle": "2024-05-11T02:24:07.393358Z",
     "shell.execute_reply": "2024-05-11T02:24:07.392981Z",
     "shell.execute_reply.started": "2022-03-07T11:26:16.515881Z"
    },
    "papermill": {
     "duration": 0.078474,
     "end_time": "2024-05-11T02:24:07.393482",
     "exception": false,
     "start_time": "2024-05-11T02:24:07.315008",
     "status": "completed"
    },
    "tags": []
   },
   "outputs": [],
   "source": [
    "# Model building."
   ]
  },
  {
   "cell_type": "code",
   "execution_count": 49,
   "id": "2e569392",
   "metadata": {
    "execution": {
     "iopub.execute_input": "2024-05-11T02:24:07.543779Z",
     "iopub.status.busy": "2024-05-11T02:24:07.543191Z",
     "iopub.status.idle": "2024-05-11T02:24:07.545853Z",
     "shell.execute_reply": "2024-05-11T02:24:07.545420Z",
     "shell.execute_reply.started": "2022-03-07T11:26:16.529221Z"
    },
    "papermill": {
     "duration": 0.078895,
     "end_time": "2024-05-11T02:24:07.545953",
     "exception": false,
     "start_time": "2024-05-11T02:24:07.467058",
     "status": "completed"
    },
    "tags": []
   },
   "outputs": [],
   "source": [
    "# We will do this by taking a sample of the data for training and using the rest for prediction."
   ]
  },
  {
   "cell_type": "code",
   "execution_count": 50,
   "id": "ee60a7b6",
   "metadata": {
    "execution": {
     "iopub.execute_input": "2024-05-11T02:24:07.699390Z",
     "iopub.status.busy": "2024-05-11T02:24:07.698811Z",
     "iopub.status.idle": "2024-05-11T02:24:07.700664Z",
     "shell.execute_reply": "2024-05-11T02:24:07.699998Z",
     "shell.execute_reply.started": "2022-03-07T11:26:16.542468Z"
    },
    "papermill": {
     "duration": 0.080461,
     "end_time": "2024-05-11T02:24:07.700798",
     "exception": false,
     "start_time": "2024-05-11T02:24:07.620337",
     "status": "completed"
    },
    "tags": []
   },
   "outputs": [],
   "source": [
    "# Also since we are mostly interested in the words we will drop the variable 'Length' for now."
   ]
  },
  {
   "cell_type": "code",
   "execution_count": 51,
   "id": "4f4bb2df",
   "metadata": {
    "execution": {
     "iopub.execute_input": "2024-05-11T02:24:07.853745Z",
     "iopub.status.busy": "2024-05-11T02:24:07.853089Z",
     "iopub.status.idle": "2024-05-11T02:24:08.132989Z",
     "shell.execute_reply": "2024-05-11T02:24:08.132481Z",
     "shell.execute_reply.started": "2022-03-07T11:26:16.555038Z"
    },
    "papermill": {
     "duration": 0.35794,
     "end_time": "2024-05-11T02:24:08.133112",
     "exception": false,
     "start_time": "2024-05-11T02:24:07.775172",
     "status": "completed"
    },
    "tags": []
   },
   "outputs": [],
   "source": [
    "Suicide_Pred = Suicide.drop(\"Length\", axis=1)"
   ]
  },
  {
   "cell_type": "code",
   "execution_count": 52,
   "id": "a2055844",
   "metadata": {
    "execution": {
     "iopub.execute_input": "2024-05-11T02:24:08.286504Z",
     "iopub.status.busy": "2024-05-11T02:24:08.285954Z",
     "iopub.status.idle": "2024-05-11T02:24:08.289166Z",
     "shell.execute_reply": "2024-05-11T02:24:08.288650Z",
     "shell.execute_reply.started": "2022-03-07T11:26:17.235601Z"
    },
    "papermill": {
     "duration": 0.081909,
     "end_time": "2024-05-11T02:24:08.289274",
     "exception": false,
     "start_time": "2024-05-11T02:24:08.207365",
     "status": "completed"
    },
    "tags": []
   },
   "outputs": [
    {
     "data": {
      "text/plain": [
       "208955"
      ]
     },
     "execution_count": 52,
     "metadata": {},
     "output_type": "execute_result"
    }
   ],
   "source": [
    "len(Suicide_Pred)"
   ]
  },
  {
   "cell_type": "code",
   "execution_count": 53,
   "id": "ff661f5f",
   "metadata": {
    "execution": {
     "iopub.execute_input": "2024-05-11T02:24:08.452359Z",
     "iopub.status.busy": "2024-05-11T02:24:08.451761Z",
     "iopub.status.idle": "2024-05-11T02:24:08.454842Z",
     "shell.execute_reply": "2024-05-11T02:24:08.454387Z",
     "shell.execute_reply.started": "2022-03-07T11:26:17.242816Z"
    },
    "papermill": {
     "duration": 0.09224,
     "end_time": "2024-05-11T02:24:08.454964",
     "exception": false,
     "start_time": "2024-05-11T02:24:08.362724",
     "status": "completed"
    },
    "tags": []
   },
   "outputs": [
    {
     "data": {
      "text/html": [
       "<div>\n",
       "<style scoped>\n",
       "    .dataframe tbody tr th:only-of-type {\n",
       "        vertical-align: middle;\n",
       "    }\n",
       "\n",
       "    .dataframe tbody tr th {\n",
       "        vertical-align: top;\n",
       "    }\n",
       "\n",
       "    .dataframe thead th {\n",
       "        text-align: right;\n",
       "    }\n",
       "</style>\n",
       "<table border=\"1\" class=\"dataframe\">\n",
       "  <thead>\n",
       "    <tr style=\"text-align: right;\">\n",
       "      <th></th>\n",
       "      <th>class</th>\n",
       "      <th>SOME</th>\n",
       "      <th>ME.</th>\n",
       "      <th>FILLER</th>\n",
       "      <th>WE</th>\n",
       "      <th>HAS</th>\n",
       "      <th>FUCKING</th>\n",
       "      <th>WHY</th>\n",
       "      <th>BEING</th>\n",
       "      <th>ANY</th>\n",
       "      <th>...</th>\n",
       "      <th>WEIRD</th>\n",
       "      <th>WHAT'S</th>\n",
       "      <th>LONGER</th>\n",
       "      <th>OTHERS</th>\n",
       "      <th>THANK</th>\n",
       "      <th>SUPPOSED</th>\n",
       "      <th>HEAR</th>\n",
       "      <th>FRIENDS.</th>\n",
       "      <th>MOTHER</th>\n",
       "      <th>LOVED</th>\n",
       "    </tr>\n",
       "  </thead>\n",
       "  <tbody>\n",
       "    <tr>\n",
       "      <th>0</th>\n",
       "      <td>1</td>\n",
       "      <td>0</td>\n",
       "      <td>0</td>\n",
       "      <td>0</td>\n",
       "      <td>0</td>\n",
       "      <td>1</td>\n",
       "      <td>0</td>\n",
       "      <td>0</td>\n",
       "      <td>0</td>\n",
       "      <td>0</td>\n",
       "      <td>...</td>\n",
       "      <td>0</td>\n",
       "      <td>0</td>\n",
       "      <td>0</td>\n",
       "      <td>0</td>\n",
       "      <td>0</td>\n",
       "      <td>1</td>\n",
       "      <td>0</td>\n",
       "      <td>0</td>\n",
       "      <td>0</td>\n",
       "      <td>0</td>\n",
       "    </tr>\n",
       "    <tr>\n",
       "      <th>1</th>\n",
       "      <td>0</td>\n",
       "      <td>0</td>\n",
       "      <td>0</td>\n",
       "      <td>0</td>\n",
       "      <td>0</td>\n",
       "      <td>0</td>\n",
       "      <td>0</td>\n",
       "      <td>0</td>\n",
       "      <td>0</td>\n",
       "      <td>0</td>\n",
       "      <td>...</td>\n",
       "      <td>1</td>\n",
       "      <td>0</td>\n",
       "      <td>0</td>\n",
       "      <td>0</td>\n",
       "      <td>0</td>\n",
       "      <td>0</td>\n",
       "      <td>0</td>\n",
       "      <td>0</td>\n",
       "      <td>0</td>\n",
       "      <td>0</td>\n",
       "    </tr>\n",
       "    <tr>\n",
       "      <th>2</th>\n",
       "      <td>0</td>\n",
       "      <td>0</td>\n",
       "      <td>0</td>\n",
       "      <td>0</td>\n",
       "      <td>0</td>\n",
       "      <td>1</td>\n",
       "      <td>1</td>\n",
       "      <td>0</td>\n",
       "      <td>0</td>\n",
       "      <td>0</td>\n",
       "      <td>...</td>\n",
       "      <td>0</td>\n",
       "      <td>0</td>\n",
       "      <td>0</td>\n",
       "      <td>0</td>\n",
       "      <td>0</td>\n",
       "      <td>0</td>\n",
       "      <td>1</td>\n",
       "      <td>0</td>\n",
       "      <td>0</td>\n",
       "      <td>0</td>\n",
       "    </tr>\n",
       "    <tr>\n",
       "      <th>3</th>\n",
       "      <td>1</td>\n",
       "      <td>0</td>\n",
       "      <td>0</td>\n",
       "      <td>0</td>\n",
       "      <td>0</td>\n",
       "      <td>0</td>\n",
       "      <td>0</td>\n",
       "      <td>0</td>\n",
       "      <td>0</td>\n",
       "      <td>0</td>\n",
       "      <td>...</td>\n",
       "      <td>0</td>\n",
       "      <td>0</td>\n",
       "      <td>0</td>\n",
       "      <td>0</td>\n",
       "      <td>0</td>\n",
       "      <td>0</td>\n",
       "      <td>0</td>\n",
       "      <td>0</td>\n",
       "      <td>0</td>\n",
       "      <td>0</td>\n",
       "    </tr>\n",
       "    <tr>\n",
       "      <th>5</th>\n",
       "      <td>1</td>\n",
       "      <td>0</td>\n",
       "      <td>1</td>\n",
       "      <td>0</td>\n",
       "      <td>0</td>\n",
       "      <td>0</td>\n",
       "      <td>0</td>\n",
       "      <td>0</td>\n",
       "      <td>1</td>\n",
       "      <td>0</td>\n",
       "      <td>...</td>\n",
       "      <td>0</td>\n",
       "      <td>0</td>\n",
       "      <td>0</td>\n",
       "      <td>0</td>\n",
       "      <td>0</td>\n",
       "      <td>0</td>\n",
       "      <td>0</td>\n",
       "      <td>0</td>\n",
       "      <td>0</td>\n",
       "      <td>0</td>\n",
       "    </tr>\n",
       "  </tbody>\n",
       "</table>\n",
       "<p>5 rows × 381 columns</p>\n",
       "</div>"
      ],
      "text/plain": [
       "   class  SOME  ME.  FILLER  WE  HAS  FUCKING  WHY  BEING  ANY  ...  WEIRD  \\\n",
       "0      1     0    0       0   0    1        0    0      0    0  ...      0   \n",
       "1      0     0    0       0   0    0        0    0      0    0  ...      1   \n",
       "2      0     0    0       0   0    1        1    0      0    0  ...      0   \n",
       "3      1     0    0       0   0    0        0    0      0    0  ...      0   \n",
       "5      1     0    1       0   0    0        0    0      1    0  ...      0   \n",
       "\n",
       "   WHAT'S  LONGER  OTHERS  THANK  SUPPOSED  HEAR  FRIENDS.  MOTHER  LOVED  \n",
       "0       0       0       0      0         1     0         0       0      0  \n",
       "1       0       0       0      0         0     0         0       0      0  \n",
       "2       0       0       0      0         0     1         0       0      0  \n",
       "3       0       0       0      0         0     0         0       0      0  \n",
       "5       0       0       0      0         0     0         0       0      0  \n",
       "\n",
       "[5 rows x 381 columns]"
      ]
     },
     "execution_count": 53,
     "metadata": {},
     "output_type": "execute_result"
    }
   ],
   "source": [
    "Suicide_Pred.head()"
   ]
  },
  {
   "cell_type": "code",
   "execution_count": 54,
   "id": "6bcecb9e",
   "metadata": {
    "execution": {
     "iopub.execute_input": "2024-05-11T02:24:08.607531Z",
     "iopub.status.busy": "2024-05-11T02:24:08.607038Z",
     "iopub.status.idle": "2024-05-11T02:24:08.770421Z",
     "shell.execute_reply": "2024-05-11T02:24:08.769968Z",
     "shell.execute_reply.started": "2022-03-07T11:26:17.270093Z"
    },
    "papermill": {
     "duration": 0.241266,
     "end_time": "2024-05-11T02:24:08.770578",
     "exception": false,
     "start_time": "2024-05-11T02:24:08.529312",
     "status": "completed"
    },
    "tags": []
   },
   "outputs": [],
   "source": [
    "from sklearn.model_selection import train_test_split"
   ]
  },
  {
   "cell_type": "code",
   "execution_count": 55,
   "id": "be380e5c",
   "metadata": {
    "execution": {
     "iopub.execute_input": "2024-05-11T02:24:09.061991Z",
     "iopub.status.busy": "2024-05-11T02:24:09.061380Z",
     "iopub.status.idle": "2024-05-11T02:24:09.599042Z",
     "shell.execute_reply": "2024-05-11T02:24:09.599507Z",
     "shell.execute_reply.started": "2022-03-07T11:26:17.327522Z"
    },
    "papermill": {
     "duration": 0.754224,
     "end_time": "2024-05-11T02:24:09.599647",
     "exception": false,
     "start_time": "2024-05-11T02:24:08.845423",
     "status": "completed"
    },
    "tags": []
   },
   "outputs": [
    {
     "data": {
      "text/html": [
       "<div>\n",
       "<style scoped>\n",
       "    .dataframe tbody tr th:only-of-type {\n",
       "        vertical-align: middle;\n",
       "    }\n",
       "\n",
       "    .dataframe tbody tr th {\n",
       "        vertical-align: top;\n",
       "    }\n",
       "\n",
       "    .dataframe thead th {\n",
       "        text-align: right;\n",
       "    }\n",
       "</style>\n",
       "<table border=\"1\" class=\"dataframe\">\n",
       "  <thead>\n",
       "    <tr style=\"text-align: right;\">\n",
       "      <th></th>\n",
       "      <th>SOME</th>\n",
       "      <th>ME.</th>\n",
       "      <th>FILLER</th>\n",
       "      <th>WE</th>\n",
       "      <th>HAS</th>\n",
       "      <th>FUCKING</th>\n",
       "      <th>WHY</th>\n",
       "      <th>BEING</th>\n",
       "      <th>ANY</th>\n",
       "      <th>MORE</th>\n",
       "      <th>...</th>\n",
       "      <th>WEIRD</th>\n",
       "      <th>WHAT'S</th>\n",
       "      <th>LONGER</th>\n",
       "      <th>OTHERS</th>\n",
       "      <th>THANK</th>\n",
       "      <th>SUPPOSED</th>\n",
       "      <th>HEAR</th>\n",
       "      <th>FRIENDS.</th>\n",
       "      <th>MOTHER</th>\n",
       "      <th>LOVED</th>\n",
       "    </tr>\n",
       "  </thead>\n",
       "  <tbody>\n",
       "    <tr>\n",
       "      <th>15131</th>\n",
       "      <td>0</td>\n",
       "      <td>0</td>\n",
       "      <td>0</td>\n",
       "      <td>0</td>\n",
       "      <td>0</td>\n",
       "      <td>0</td>\n",
       "      <td>0</td>\n",
       "      <td>0</td>\n",
       "      <td>0</td>\n",
       "      <td>0</td>\n",
       "      <td>...</td>\n",
       "      <td>0</td>\n",
       "      <td>0</td>\n",
       "      <td>0</td>\n",
       "      <td>0</td>\n",
       "      <td>0</td>\n",
       "      <td>0</td>\n",
       "      <td>0</td>\n",
       "      <td>0</td>\n",
       "      <td>0</td>\n",
       "      <td>0</td>\n",
       "    </tr>\n",
       "    <tr>\n",
       "      <th>153315</th>\n",
       "      <td>1</td>\n",
       "      <td>0</td>\n",
       "      <td>0</td>\n",
       "      <td>1</td>\n",
       "      <td>1</td>\n",
       "      <td>0</td>\n",
       "      <td>0</td>\n",
       "      <td>0</td>\n",
       "      <td>0</td>\n",
       "      <td>1</td>\n",
       "      <td>...</td>\n",
       "      <td>0</td>\n",
       "      <td>0</td>\n",
       "      <td>0</td>\n",
       "      <td>0</td>\n",
       "      <td>0</td>\n",
       "      <td>0</td>\n",
       "      <td>0</td>\n",
       "      <td>0</td>\n",
       "      <td>0</td>\n",
       "      <td>0</td>\n",
       "    </tr>\n",
       "    <tr>\n",
       "      <th>115407</th>\n",
       "      <td>0</td>\n",
       "      <td>0</td>\n",
       "      <td>0</td>\n",
       "      <td>0</td>\n",
       "      <td>0</td>\n",
       "      <td>0</td>\n",
       "      <td>0</td>\n",
       "      <td>0</td>\n",
       "      <td>0</td>\n",
       "      <td>0</td>\n",
       "      <td>...</td>\n",
       "      <td>0</td>\n",
       "      <td>0</td>\n",
       "      <td>0</td>\n",
       "      <td>0</td>\n",
       "      <td>0</td>\n",
       "      <td>0</td>\n",
       "      <td>0</td>\n",
       "      <td>0</td>\n",
       "      <td>0</td>\n",
       "      <td>0</td>\n",
       "    </tr>\n",
       "    <tr>\n",
       "      <th>189274</th>\n",
       "      <td>0</td>\n",
       "      <td>0</td>\n",
       "      <td>0</td>\n",
       "      <td>0</td>\n",
       "      <td>0</td>\n",
       "      <td>0</td>\n",
       "      <td>0</td>\n",
       "      <td>0</td>\n",
       "      <td>0</td>\n",
       "      <td>0</td>\n",
       "      <td>...</td>\n",
       "      <td>0</td>\n",
       "      <td>0</td>\n",
       "      <td>0</td>\n",
       "      <td>0</td>\n",
       "      <td>0</td>\n",
       "      <td>0</td>\n",
       "      <td>0</td>\n",
       "      <td>0</td>\n",
       "      <td>0</td>\n",
       "      <td>0</td>\n",
       "    </tr>\n",
       "    <tr>\n",
       "      <th>85559</th>\n",
       "      <td>1</td>\n",
       "      <td>0</td>\n",
       "      <td>0</td>\n",
       "      <td>0</td>\n",
       "      <td>0</td>\n",
       "      <td>0</td>\n",
       "      <td>0</td>\n",
       "      <td>0</td>\n",
       "      <td>0</td>\n",
       "      <td>0</td>\n",
       "      <td>...</td>\n",
       "      <td>0</td>\n",
       "      <td>0</td>\n",
       "      <td>1</td>\n",
       "      <td>0</td>\n",
       "      <td>0</td>\n",
       "      <td>0</td>\n",
       "      <td>0</td>\n",
       "      <td>0</td>\n",
       "      <td>0</td>\n",
       "      <td>0</td>\n",
       "    </tr>\n",
       "  </tbody>\n",
       "</table>\n",
       "<p>5 rows × 380 columns</p>\n",
       "</div>"
      ],
      "text/plain": [
       "        SOME  ME.  FILLER  WE  HAS  FUCKING  WHY  BEING  ANY  MORE  ...  \\\n",
       "15131      0    0       0   0    0        0    0      0    0     0  ...   \n",
       "153315     1    0       0   1    1        0    0      0    0     1  ...   \n",
       "115407     0    0       0   0    0        0    0      0    0     0  ...   \n",
       "189274     0    0       0   0    0        0    0      0    0     0  ...   \n",
       "85559      1    0       0   0    0        0    0      0    0     0  ...   \n",
       "\n",
       "        WEIRD  WHAT'S  LONGER  OTHERS  THANK  SUPPOSED  HEAR  FRIENDS.  \\\n",
       "15131       0       0       0       0      0         0     0         0   \n",
       "153315      0       0       0       0      0         0     0         0   \n",
       "115407      0       0       0       0      0         0     0         0   \n",
       "189274      0       0       0       0      0         0     0         0   \n",
       "85559       0       0       1       0      0         0     0         0   \n",
       "\n",
       "        MOTHER  LOVED  \n",
       "15131        0      0  \n",
       "153315       0      0  \n",
       "115407       0      0  \n",
       "189274       0      0  \n",
       "85559        0      0  \n",
       "\n",
       "[5 rows x 380 columns]"
      ]
     },
     "execution_count": 55,
     "metadata": {},
     "output_type": "execute_result"
    }
   ],
   "source": [
    "X = Suicide_Pred.drop(\"class\", axis=1)\n",
    "y = Suicide_Pred[\"class\"]\n",
    "X_train, X_test, y_train, y_test = train_test_split(\n",
    "    X, y, train_size=0.01, random_state=100\n",
    ")\n",
    "X_train.head()"
   ]
  },
  {
   "cell_type": "code",
   "execution_count": 56,
   "id": "868e8b95",
   "metadata": {
    "execution": {
     "iopub.execute_input": "2024-05-11T02:24:09.752215Z",
     "iopub.status.busy": "2024-05-11T02:24:09.751718Z",
     "iopub.status.idle": "2024-05-11T02:24:09.755248Z",
     "shell.execute_reply": "2024-05-11T02:24:09.755661Z",
     "shell.execute_reply.started": "2022-03-07T11:26:18.266964Z"
    },
    "papermill": {
     "duration": 0.080556,
     "end_time": "2024-05-11T02:24:09.755789",
     "exception": false,
     "start_time": "2024-05-11T02:24:09.675233",
     "status": "completed"
    },
    "tags": []
   },
   "outputs": [
    {
     "data": {
      "text/plain": [
       "2089"
      ]
     },
     "execution_count": 56,
     "metadata": {},
     "output_type": "execute_result"
    }
   ],
   "source": [
    "len(X_train)"
   ]
  },
  {
   "cell_type": "code",
   "execution_count": 57,
   "id": "6a5596b6",
   "metadata": {
    "execution": {
     "iopub.execute_input": "2024-05-11T02:24:09.910801Z",
     "iopub.status.busy": "2024-05-11T02:24:09.909710Z",
     "iopub.status.idle": "2024-05-11T02:24:09.913250Z",
     "shell.execute_reply": "2024-05-11T02:24:09.913733Z",
     "shell.execute_reply.started": "2022-03-07T11:26:18.277184Z"
    },
    "papermill": {
     "duration": 0.082693,
     "end_time": "2024-05-11T02:24:09.913883",
     "exception": false,
     "start_time": "2024-05-11T02:24:09.831190",
     "status": "completed"
    },
    "tags": []
   },
   "outputs": [],
   "source": [
    "# Checking the class distirbution of the train set."
   ]
  },
  {
   "cell_type": "code",
   "execution_count": 58,
   "id": "61790463",
   "metadata": {
    "execution": {
     "iopub.execute_input": "2024-05-11T02:24:10.070883Z",
     "iopub.status.busy": "2024-05-11T02:24:10.070234Z",
     "iopub.status.idle": "2024-05-11T02:24:10.076278Z",
     "shell.execute_reply": "2024-05-11T02:24:10.076716Z",
     "shell.execute_reply.started": "2022-03-07T11:26:18.290048Z"
    },
    "papermill": {
     "duration": 0.085259,
     "end_time": "2024-05-11T02:24:10.076852",
     "exception": false,
     "start_time": "2024-05-11T02:24:09.991593",
     "status": "completed"
    },
    "tags": []
   },
   "outputs": [
    {
     "data": {
      "text/plain": [
       "class\n",
       "0    1172\n",
       "1     917\n",
       "Name: count, dtype: int64"
      ]
     },
     "execution_count": 58,
     "metadata": {},
     "output_type": "execute_result"
    }
   ],
   "source": [
    "y_train.value_counts()"
   ]
  },
  {
   "cell_type": "code",
   "execution_count": 59,
   "id": "c16834ec",
   "metadata": {
    "execution": {
     "iopub.execute_input": "2024-05-11T02:24:10.232215Z",
     "iopub.status.busy": "2024-05-11T02:24:10.231573Z",
     "iopub.status.idle": "2024-05-11T02:24:10.233756Z",
     "shell.execute_reply": "2024-05-11T02:24:10.233319Z",
     "shell.execute_reply.started": "2022-03-07T11:26:18.310392Z"
    },
    "papermill": {
     "duration": 0.080647,
     "end_time": "2024-05-11T02:24:10.233864",
     "exception": false,
     "start_time": "2024-05-11T02:24:10.153217",
     "status": "completed"
    },
    "tags": []
   },
   "outputs": [],
   "source": [
    "# As we can see we get a balanced data set."
   ]
  },
  {
   "cell_type": "code",
   "execution_count": 60,
   "id": "c866d265",
   "metadata": {
    "execution": {
     "iopub.execute_input": "2024-05-11T02:24:10.391872Z",
     "iopub.status.busy": "2024-05-11T02:24:10.391345Z",
     "iopub.status.idle": "2024-05-11T02:24:10.579993Z",
     "shell.execute_reply": "2024-05-11T02:24:10.580403Z",
     "shell.execute_reply.started": "2022-03-07T11:26:18.323177Z"
    },
    "papermill": {
     "duration": 0.269429,
     "end_time": "2024-05-11T02:24:10.580598",
     "exception": false,
     "start_time": "2024-05-11T02:24:10.311169",
     "status": "completed"
    },
    "tags": []
   },
   "outputs": [],
   "source": [
    "from sklearn.ensemble import RandomForestClassifier\n",
    "from sklearn.model_selection import GridSearchCV\n",
    "from sklearn.metrics import accuracy_score, recall_score"
   ]
  },
  {
   "cell_type": "code",
   "execution_count": 61,
   "id": "601c7474",
   "metadata": {
    "execution": {
     "iopub.execute_input": "2024-05-11T02:24:10.738100Z",
     "iopub.status.busy": "2024-05-11T02:24:10.737596Z",
     "iopub.status.idle": "2024-05-11T02:26:20.160547Z",
     "shell.execute_reply": "2024-05-11T02:26:20.160968Z",
     "shell.execute_reply.started": "2022-03-07T11:26:18.402159Z"
    },
    "papermill": {
     "duration": 129.50529,
     "end_time": "2024-05-11T02:26:20.161107",
     "exception": false,
     "start_time": "2024-05-11T02:24:10.655817",
     "status": "completed"
    },
    "tags": []
   },
   "outputs": [
    {
     "name": "stdout",
     "output_type": "stream",
     "text": [
      "Fitting 5 folds for each of 70 candidates, totalling 350 fits\n"
     ]
    },
    {
     "data": {
      "text/html": [
       "<style>#sk-container-id-1 {\n",
       "  /* Definition of color scheme common for light and dark mode */\n",
       "  --sklearn-color-text: black;\n",
       "  --sklearn-color-line: gray;\n",
       "  /* Definition of color scheme for unfitted estimators */\n",
       "  --sklearn-color-unfitted-level-0: #fff5e6;\n",
       "  --sklearn-color-unfitted-level-1: #f6e4d2;\n",
       "  --sklearn-color-unfitted-level-2: #ffe0b3;\n",
       "  --sklearn-color-unfitted-level-3: chocolate;\n",
       "  /* Definition of color scheme for fitted estimators */\n",
       "  --sklearn-color-fitted-level-0: #f0f8ff;\n",
       "  --sklearn-color-fitted-level-1: #d4ebff;\n",
       "  --sklearn-color-fitted-level-2: #b3dbfd;\n",
       "  --sklearn-color-fitted-level-3: cornflowerblue;\n",
       "\n",
       "  /* Specific color for light theme */\n",
       "  --sklearn-color-text-on-default-background: var(--sg-text-color, var(--theme-code-foreground, var(--jp-content-font-color1, black)));\n",
       "  --sklearn-color-background: var(--sg-background-color, var(--theme-background, var(--jp-layout-color0, white)));\n",
       "  --sklearn-color-border-box: var(--sg-text-color, var(--theme-code-foreground, var(--jp-content-font-color1, black)));\n",
       "  --sklearn-color-icon: #696969;\n",
       "\n",
       "  @media (prefers-color-scheme: dark) {\n",
       "    /* Redefinition of color scheme for dark theme */\n",
       "    --sklearn-color-text-on-default-background: var(--sg-text-color, var(--theme-code-foreground, var(--jp-content-font-color1, white)));\n",
       "    --sklearn-color-background: var(--sg-background-color, var(--theme-background, var(--jp-layout-color0, #111)));\n",
       "    --sklearn-color-border-box: var(--sg-text-color, var(--theme-code-foreground, var(--jp-content-font-color1, white)));\n",
       "    --sklearn-color-icon: #878787;\n",
       "  }\n",
       "}\n",
       "\n",
       "#sk-container-id-1 {\n",
       "  color: var(--sklearn-color-text);\n",
       "}\n",
       "\n",
       "#sk-container-id-1 pre {\n",
       "  padding: 0;\n",
       "}\n",
       "\n",
       "#sk-container-id-1 input.sk-hidden--visually {\n",
       "  border: 0;\n",
       "  clip: rect(1px 1px 1px 1px);\n",
       "  clip: rect(1px, 1px, 1px, 1px);\n",
       "  height: 1px;\n",
       "  margin: -1px;\n",
       "  overflow: hidden;\n",
       "  padding: 0;\n",
       "  position: absolute;\n",
       "  width: 1px;\n",
       "}\n",
       "\n",
       "#sk-container-id-1 div.sk-dashed-wrapped {\n",
       "  border: 1px dashed var(--sklearn-color-line);\n",
       "  margin: 0 0.4em 0.5em 0.4em;\n",
       "  box-sizing: border-box;\n",
       "  padding-bottom: 0.4em;\n",
       "  background-color: var(--sklearn-color-background);\n",
       "}\n",
       "\n",
       "#sk-container-id-1 div.sk-container {\n",
       "  /* jupyter's `normalize.less` sets `[hidden] { display: none; }`\n",
       "     but bootstrap.min.css set `[hidden] { display: none !important; }`\n",
       "     so we also need the `!important` here to be able to override the\n",
       "     default hidden behavior on the sphinx rendered scikit-learn.org.\n",
       "     See: https://github.com/scikit-learn/scikit-learn/issues/21755 */\n",
       "  display: inline-block !important;\n",
       "  position: relative;\n",
       "}\n",
       "\n",
       "#sk-container-id-1 div.sk-text-repr-fallback {\n",
       "  display: none;\n",
       "}\n",
       "\n",
       "div.sk-parallel-item,\n",
       "div.sk-serial,\n",
       "div.sk-item {\n",
       "  /* draw centered vertical line to link estimators */\n",
       "  background-image: linear-gradient(var(--sklearn-color-text-on-default-background), var(--sklearn-color-text-on-default-background));\n",
       "  background-size: 2px 100%;\n",
       "  background-repeat: no-repeat;\n",
       "  background-position: center center;\n",
       "}\n",
       "\n",
       "/* Parallel-specific style estimator block */\n",
       "\n",
       "#sk-container-id-1 div.sk-parallel-item::after {\n",
       "  content: \"\";\n",
       "  width: 100%;\n",
       "  border-bottom: 2px solid var(--sklearn-color-text-on-default-background);\n",
       "  flex-grow: 1;\n",
       "}\n",
       "\n",
       "#sk-container-id-1 div.sk-parallel {\n",
       "  display: flex;\n",
       "  align-items: stretch;\n",
       "  justify-content: center;\n",
       "  background-color: var(--sklearn-color-background);\n",
       "  position: relative;\n",
       "}\n",
       "\n",
       "#sk-container-id-1 div.sk-parallel-item {\n",
       "  display: flex;\n",
       "  flex-direction: column;\n",
       "}\n",
       "\n",
       "#sk-container-id-1 div.sk-parallel-item:first-child::after {\n",
       "  align-self: flex-end;\n",
       "  width: 50%;\n",
       "}\n",
       "\n",
       "#sk-container-id-1 div.sk-parallel-item:last-child::after {\n",
       "  align-self: flex-start;\n",
       "  width: 50%;\n",
       "}\n",
       "\n",
       "#sk-container-id-1 div.sk-parallel-item:only-child::after {\n",
       "  width: 0;\n",
       "}\n",
       "\n",
       "/* Serial-specific style estimator block */\n",
       "\n",
       "#sk-container-id-1 div.sk-serial {\n",
       "  display: flex;\n",
       "  flex-direction: column;\n",
       "  align-items: center;\n",
       "  background-color: var(--sklearn-color-background);\n",
       "  padding-right: 1em;\n",
       "  padding-left: 1em;\n",
       "}\n",
       "\n",
       "\n",
       "/* Toggleable style: style used for estimator/Pipeline/ColumnTransformer box that is\n",
       "clickable and can be expanded/collapsed.\n",
       "- Pipeline and ColumnTransformer use this feature and define the default style\n",
       "- Estimators will overwrite some part of the style using the `sk-estimator` class\n",
       "*/\n",
       "\n",
       "/* Pipeline and ColumnTransformer style (default) */\n",
       "\n",
       "#sk-container-id-1 div.sk-toggleable {\n",
       "  /* Default theme specific background. It is overwritten whether we have a\n",
       "  specific estimator or a Pipeline/ColumnTransformer */\n",
       "  background-color: var(--sklearn-color-background);\n",
       "}\n",
       "\n",
       "/* Toggleable label */\n",
       "#sk-container-id-1 label.sk-toggleable__label {\n",
       "  cursor: pointer;\n",
       "  display: block;\n",
       "  width: 100%;\n",
       "  margin-bottom: 0;\n",
       "  padding: 0.5em;\n",
       "  box-sizing: border-box;\n",
       "  text-align: center;\n",
       "}\n",
       "\n",
       "#sk-container-id-1 label.sk-toggleable__label-arrow:before {\n",
       "  /* Arrow on the left of the label */\n",
       "  content: \"▸\";\n",
       "  float: left;\n",
       "  margin-right: 0.25em;\n",
       "  color: var(--sklearn-color-icon);\n",
       "}\n",
       "\n",
       "#sk-container-id-1 label.sk-toggleable__label-arrow:hover:before {\n",
       "  color: var(--sklearn-color-text);\n",
       "}\n",
       "\n",
       "/* Toggleable content - dropdown */\n",
       "\n",
       "#sk-container-id-1 div.sk-toggleable__content {\n",
       "  max-height: 0;\n",
       "  max-width: 0;\n",
       "  overflow: hidden;\n",
       "  text-align: left;\n",
       "  /* unfitted */\n",
       "  background-color: var(--sklearn-color-unfitted-level-0);\n",
       "}\n",
       "\n",
       "#sk-container-id-1 div.sk-toggleable__content.fitted {\n",
       "  /* fitted */\n",
       "  background-color: var(--sklearn-color-fitted-level-0);\n",
       "}\n",
       "\n",
       "#sk-container-id-1 div.sk-toggleable__content pre {\n",
       "  margin: 0.2em;\n",
       "  border-radius: 0.25em;\n",
       "  color: var(--sklearn-color-text);\n",
       "  /* unfitted */\n",
       "  background-color: var(--sklearn-color-unfitted-level-0);\n",
       "}\n",
       "\n",
       "#sk-container-id-1 div.sk-toggleable__content.fitted pre {\n",
       "  /* unfitted */\n",
       "  background-color: var(--sklearn-color-fitted-level-0);\n",
       "}\n",
       "\n",
       "#sk-container-id-1 input.sk-toggleable__control:checked~div.sk-toggleable__content {\n",
       "  /* Expand drop-down */\n",
       "  max-height: 200px;\n",
       "  max-width: 100%;\n",
       "  overflow: auto;\n",
       "}\n",
       "\n",
       "#sk-container-id-1 input.sk-toggleable__control:checked~label.sk-toggleable__label-arrow:before {\n",
       "  content: \"▾\";\n",
       "}\n",
       "\n",
       "/* Pipeline/ColumnTransformer-specific style */\n",
       "\n",
       "#sk-container-id-1 div.sk-label input.sk-toggleable__control:checked~label.sk-toggleable__label {\n",
       "  color: var(--sklearn-color-text);\n",
       "  background-color: var(--sklearn-color-unfitted-level-2);\n",
       "}\n",
       "\n",
       "#sk-container-id-1 div.sk-label.fitted input.sk-toggleable__control:checked~label.sk-toggleable__label {\n",
       "  background-color: var(--sklearn-color-fitted-level-2);\n",
       "}\n",
       "\n",
       "/* Estimator-specific style */\n",
       "\n",
       "/* Colorize estimator box */\n",
       "#sk-container-id-1 div.sk-estimator input.sk-toggleable__control:checked~label.sk-toggleable__label {\n",
       "  /* unfitted */\n",
       "  background-color: var(--sklearn-color-unfitted-level-2);\n",
       "}\n",
       "\n",
       "#sk-container-id-1 div.sk-estimator.fitted input.sk-toggleable__control:checked~label.sk-toggleable__label {\n",
       "  /* fitted */\n",
       "  background-color: var(--sklearn-color-fitted-level-2);\n",
       "}\n",
       "\n",
       "#sk-container-id-1 div.sk-label label.sk-toggleable__label,\n",
       "#sk-container-id-1 div.sk-label label {\n",
       "  /* The background is the default theme color */\n",
       "  color: var(--sklearn-color-text-on-default-background);\n",
       "}\n",
       "\n",
       "/* On hover, darken the color of the background */\n",
       "#sk-container-id-1 div.sk-label:hover label.sk-toggleable__label {\n",
       "  color: var(--sklearn-color-text);\n",
       "  background-color: var(--sklearn-color-unfitted-level-2);\n",
       "}\n",
       "\n",
       "/* Label box, darken color on hover, fitted */\n",
       "#sk-container-id-1 div.sk-label.fitted:hover label.sk-toggleable__label.fitted {\n",
       "  color: var(--sklearn-color-text);\n",
       "  background-color: var(--sklearn-color-fitted-level-2);\n",
       "}\n",
       "\n",
       "/* Estimator label */\n",
       "\n",
       "#sk-container-id-1 div.sk-label label {\n",
       "  font-family: monospace;\n",
       "  font-weight: bold;\n",
       "  display: inline-block;\n",
       "  line-height: 1.2em;\n",
       "}\n",
       "\n",
       "#sk-container-id-1 div.sk-label-container {\n",
       "  text-align: center;\n",
       "}\n",
       "\n",
       "/* Estimator-specific */\n",
       "#sk-container-id-1 div.sk-estimator {\n",
       "  font-family: monospace;\n",
       "  border: 1px dotted var(--sklearn-color-border-box);\n",
       "  border-radius: 0.25em;\n",
       "  box-sizing: border-box;\n",
       "  margin-bottom: 0.5em;\n",
       "  /* unfitted */\n",
       "  background-color: var(--sklearn-color-unfitted-level-0);\n",
       "}\n",
       "\n",
       "#sk-container-id-1 div.sk-estimator.fitted {\n",
       "  /* fitted */\n",
       "  background-color: var(--sklearn-color-fitted-level-0);\n",
       "}\n",
       "\n",
       "/* on hover */\n",
       "#sk-container-id-1 div.sk-estimator:hover {\n",
       "  /* unfitted */\n",
       "  background-color: var(--sklearn-color-unfitted-level-2);\n",
       "}\n",
       "\n",
       "#sk-container-id-1 div.sk-estimator.fitted:hover {\n",
       "  /* fitted */\n",
       "  background-color: var(--sklearn-color-fitted-level-2);\n",
       "}\n",
       "\n",
       "/* Specification for estimator info (e.g. \"i\" and \"?\") */\n",
       "\n",
       "/* Common style for \"i\" and \"?\" */\n",
       "\n",
       ".sk-estimator-doc-link,\n",
       "a:link.sk-estimator-doc-link,\n",
       "a:visited.sk-estimator-doc-link {\n",
       "  float: right;\n",
       "  font-size: smaller;\n",
       "  line-height: 1em;\n",
       "  font-family: monospace;\n",
       "  background-color: var(--sklearn-color-background);\n",
       "  border-radius: 1em;\n",
       "  height: 1em;\n",
       "  width: 1em;\n",
       "  text-decoration: none !important;\n",
       "  margin-left: 1ex;\n",
       "  /* unfitted */\n",
       "  border: var(--sklearn-color-unfitted-level-1) 1pt solid;\n",
       "  color: var(--sklearn-color-unfitted-level-1);\n",
       "}\n",
       "\n",
       ".sk-estimator-doc-link.fitted,\n",
       "a:link.sk-estimator-doc-link.fitted,\n",
       "a:visited.sk-estimator-doc-link.fitted {\n",
       "  /* fitted */\n",
       "  border: var(--sklearn-color-fitted-level-1) 1pt solid;\n",
       "  color: var(--sklearn-color-fitted-level-1);\n",
       "}\n",
       "\n",
       "/* On hover */\n",
       "div.sk-estimator:hover .sk-estimator-doc-link:hover,\n",
       ".sk-estimator-doc-link:hover,\n",
       "div.sk-label-container:hover .sk-estimator-doc-link:hover,\n",
       ".sk-estimator-doc-link:hover {\n",
       "  /* unfitted */\n",
       "  background-color: var(--sklearn-color-unfitted-level-3);\n",
       "  color: var(--sklearn-color-background);\n",
       "  text-decoration: none;\n",
       "}\n",
       "\n",
       "div.sk-estimator.fitted:hover .sk-estimator-doc-link.fitted:hover,\n",
       ".sk-estimator-doc-link.fitted:hover,\n",
       "div.sk-label-container:hover .sk-estimator-doc-link.fitted:hover,\n",
       ".sk-estimator-doc-link.fitted:hover {\n",
       "  /* fitted */\n",
       "  background-color: var(--sklearn-color-fitted-level-3);\n",
       "  color: var(--sklearn-color-background);\n",
       "  text-decoration: none;\n",
       "}\n",
       "\n",
       "/* Span, style for the box shown on hovering the info icon */\n",
       ".sk-estimator-doc-link span {\n",
       "  display: none;\n",
       "  z-index: 9999;\n",
       "  position: relative;\n",
       "  font-weight: normal;\n",
       "  right: .2ex;\n",
       "  padding: .5ex;\n",
       "  margin: .5ex;\n",
       "  width: min-content;\n",
       "  min-width: 20ex;\n",
       "  max-width: 50ex;\n",
       "  color: var(--sklearn-color-text);\n",
       "  box-shadow: 2pt 2pt 4pt #999;\n",
       "  /* unfitted */\n",
       "  background: var(--sklearn-color-unfitted-level-0);\n",
       "  border: .5pt solid var(--sklearn-color-unfitted-level-3);\n",
       "}\n",
       "\n",
       ".sk-estimator-doc-link.fitted span {\n",
       "  /* fitted */\n",
       "  background: var(--sklearn-color-fitted-level-0);\n",
       "  border: var(--sklearn-color-fitted-level-3);\n",
       "}\n",
       "\n",
       ".sk-estimator-doc-link:hover span {\n",
       "  display: block;\n",
       "}\n",
       "\n",
       "/* \"?\"-specific style due to the `<a>` HTML tag */\n",
       "\n",
       "#sk-container-id-1 a.estimator_doc_link {\n",
       "  float: right;\n",
       "  font-size: 1rem;\n",
       "  line-height: 1em;\n",
       "  font-family: monospace;\n",
       "  background-color: var(--sklearn-color-background);\n",
       "  border-radius: 1rem;\n",
       "  height: 1rem;\n",
       "  width: 1rem;\n",
       "  text-decoration: none;\n",
       "  /* unfitted */\n",
       "  color: var(--sklearn-color-unfitted-level-1);\n",
       "  border: var(--sklearn-color-unfitted-level-1) 1pt solid;\n",
       "}\n",
       "\n",
       "#sk-container-id-1 a.estimator_doc_link.fitted {\n",
       "  /* fitted */\n",
       "  border: var(--sklearn-color-fitted-level-1) 1pt solid;\n",
       "  color: var(--sklearn-color-fitted-level-1);\n",
       "}\n",
       "\n",
       "/* On hover */\n",
       "#sk-container-id-1 a.estimator_doc_link:hover {\n",
       "  /* unfitted */\n",
       "  background-color: var(--sklearn-color-unfitted-level-3);\n",
       "  color: var(--sklearn-color-background);\n",
       "  text-decoration: none;\n",
       "}\n",
       "\n",
       "#sk-container-id-1 a.estimator_doc_link.fitted:hover {\n",
       "  /* fitted */\n",
       "  background-color: var(--sklearn-color-fitted-level-3);\n",
       "}\n",
       "</style><div id=\"sk-container-id-1\" class=\"sk-top-container\"><div class=\"sk-text-repr-fallback\"><pre>GridSearchCV(estimator=RandomForestClassifier(n_jobs=-1, random_state=100),\n",
       "             n_jobs=-1,\n",
       "             param_grid={&#x27;criterion&#x27;: [&#x27;gini&#x27;, &#x27;entropy&#x27;],\n",
       "                         &#x27;max_depth&#x27;: [3, 5, 10, 12, 15, 17, 20],\n",
       "                         &#x27;max_features&#x27;: [0.1, 0.15, 0.2, 0.25, 0.3],\n",
       "                         &#x27;n_estimators&#x27;: [200]},\n",
       "             scoring=&#x27;accuracy&#x27;, verbose=1)</pre><b>In a Jupyter environment, please rerun this cell to show the HTML representation or trust the notebook. <br />On GitHub, the HTML representation is unable to render, please try loading this page with nbviewer.org.</b></div><div class=\"sk-container\" hidden><div class=\"sk-item sk-dashed-wrapped\"><div class=\"sk-label-container\"><div class=\"sk-label fitted sk-toggleable\"><input class=\"sk-toggleable__control sk-hidden--visually\" id=\"sk-estimator-id-1\" type=\"checkbox\" ><label for=\"sk-estimator-id-1\" class=\"sk-toggleable__label fitted sk-toggleable__label-arrow fitted\">&nbsp;&nbsp;GridSearchCV<a class=\"sk-estimator-doc-link fitted\" rel=\"noreferrer\" target=\"_blank\" href=\"https://scikit-learn.org/1.4/modules/generated/sklearn.model_selection.GridSearchCV.html\">?<span>Documentation for GridSearchCV</span></a><span class=\"sk-estimator-doc-link fitted\">i<span>Fitted</span></span></label><div class=\"sk-toggleable__content fitted\"><pre>GridSearchCV(estimator=RandomForestClassifier(n_jobs=-1, random_state=100),\n",
       "             n_jobs=-1,\n",
       "             param_grid={&#x27;criterion&#x27;: [&#x27;gini&#x27;, &#x27;entropy&#x27;],\n",
       "                         &#x27;max_depth&#x27;: [3, 5, 10, 12, 15, 17, 20],\n",
       "                         &#x27;max_features&#x27;: [0.1, 0.15, 0.2, 0.25, 0.3],\n",
       "                         &#x27;n_estimators&#x27;: [200]},\n",
       "             scoring=&#x27;accuracy&#x27;, verbose=1)</pre></div> </div></div><div class=\"sk-parallel\"><div class=\"sk-parallel-item\"><div class=\"sk-item\"><div class=\"sk-label-container\"><div class=\"sk-label fitted sk-toggleable\"><input class=\"sk-toggleable__control sk-hidden--visually\" id=\"sk-estimator-id-2\" type=\"checkbox\" ><label for=\"sk-estimator-id-2\" class=\"sk-toggleable__label fitted sk-toggleable__label-arrow fitted\">estimator: RandomForestClassifier</label><div class=\"sk-toggleable__content fitted\"><pre>RandomForestClassifier(n_jobs=-1, random_state=100)</pre></div> </div></div><div class=\"sk-serial\"><div class=\"sk-item\"><div class=\"sk-estimator fitted sk-toggleable\"><input class=\"sk-toggleable__control sk-hidden--visually\" id=\"sk-estimator-id-3\" type=\"checkbox\" ><label for=\"sk-estimator-id-3\" class=\"sk-toggleable__label fitted sk-toggleable__label-arrow fitted\">&nbsp;RandomForestClassifier<a class=\"sk-estimator-doc-link fitted\" rel=\"noreferrer\" target=\"_blank\" href=\"https://scikit-learn.org/1.4/modules/generated/sklearn.ensemble.RandomForestClassifier.html\">?<span>Documentation for RandomForestClassifier</span></a></label><div class=\"sk-toggleable__content fitted\"><pre>RandomForestClassifier(n_jobs=-1, random_state=100)</pre></div> </div></div></div></div></div></div></div></div></div>"
      ],
      "text/plain": [
       "GridSearchCV(estimator=RandomForestClassifier(n_jobs=-1, random_state=100),\n",
       "             n_jobs=-1,\n",
       "             param_grid={'criterion': ['gini', 'entropy'],\n",
       "                         'max_depth': [3, 5, 10, 12, 15, 17, 20],\n",
       "                         'max_features': [0.1, 0.15, 0.2, 0.25, 0.3],\n",
       "                         'n_estimators': [200]},\n",
       "             scoring='accuracy', verbose=1)"
      ]
     },
     "execution_count": 61,
     "metadata": {},
     "output_type": "execute_result"
    }
   ],
   "source": [
    "Model = RandomForestClassifier(random_state=100, n_jobs=-1)\n",
    "\n",
    "params = {\n",
    "    \"n_estimators\": [200],\n",
    "    \"max_depth\": [3, 5, 10, 12, 15, 17, 20],\n",
    "    \"max_features\": [0.1, 0.15, 0.2, 0.25, 0.3],\n",
    "    \"criterion\": [\"gini\", \"entropy\"],\n",
    "}\n",
    "\n",
    "grid_search = GridSearchCV(\n",
    "    estimator=Model, param_grid=params, verbose=1, n_jobs=-1, scoring=\"accuracy\"\n",
    ")\n",
    "grid_search.fit(X_train, y_train)"
   ]
  },
  {
   "cell_type": "code",
   "execution_count": 62,
   "id": "8c07a2a3",
   "metadata": {
    "execution": {
     "iopub.execute_input": "2024-05-11T02:26:20.319074Z",
     "iopub.status.busy": "2024-05-11T02:26:20.318489Z",
     "iopub.status.idle": "2024-05-11T02:26:20.320796Z",
     "shell.execute_reply": "2024-05-11T02:26:20.321292Z",
     "shell.execute_reply.started": "2022-03-07T11:29:18.991558Z"
    },
    "papermill": {
     "duration": 0.083342,
     "end_time": "2024-05-11T02:26:20.321441",
     "exception": false,
     "start_time": "2024-05-11T02:26:20.238099",
     "status": "completed"
    },
    "tags": []
   },
   "outputs": [],
   "source": [
    "Model_best = grid_search.best_estimator_"
   ]
  },
  {
   "cell_type": "code",
   "execution_count": 63,
   "id": "d97301b6",
   "metadata": {
    "execution": {
     "iopub.execute_input": "2024-05-11T02:26:20.484329Z",
     "iopub.status.busy": "2024-05-11T02:26:20.478608Z",
     "iopub.status.idle": "2024-05-11T02:26:22.723877Z",
     "shell.execute_reply": "2024-05-11T02:26:22.724329Z",
     "shell.execute_reply.started": "2022-03-07T11:29:18.998065Z"
    },
    "papermill": {
     "duration": 2.326406,
     "end_time": "2024-05-11T02:26:22.724532",
     "exception": false,
     "start_time": "2024-05-11T02:26:20.398126",
     "status": "completed"
    },
    "tags": []
   },
   "outputs": [
    {
     "name": "stdout",
     "output_type": "stream",
     "text": [
      "Train accuracy score : 0.9305887984681666\n",
      "Test accuracy score : 0.8374841684955479\n",
      "Train recall score : 0.8451472191930207\n",
      "Test recall score : 0.767300992258898\n"
     ]
    }
   ],
   "source": [
    "y_train_pred = Model_best.predict(X_train)\n",
    "y_test_pred = Model_best.predict(X_test)\n",
    "\n",
    "print(\"Train accuracy score :\", accuracy_score(y_train, y_train_pred))\n",
    "print(\"Test accuracy score :\", accuracy_score(y_test, y_test_pred))\n",
    "print(\"Train recall score :\", recall_score(y_train, y_train_pred))\n",
    "print(\"Test recall score :\", recall_score(y_test, y_test_pred))"
   ]
  },
  {
   "cell_type": "code",
   "execution_count": 64,
   "id": "22af100f",
   "metadata": {
    "execution": {
     "iopub.execute_input": "2024-05-11T02:26:22.883285Z",
     "iopub.status.busy": "2024-05-11T02:26:22.882809Z",
     "iopub.status.idle": "2024-05-11T02:26:22.993184Z",
     "shell.execute_reply": "2024-05-11T02:26:22.992683Z",
     "shell.execute_reply.started": "2022-03-07T11:29:21.888769Z"
    },
    "papermill": {
     "duration": 0.192431,
     "end_time": "2024-05-11T02:26:22.993293",
     "exception": false,
     "start_time": "2024-05-11T02:26:22.800862",
     "status": "completed"
    },
    "tags": []
   },
   "outputs": [
    {
     "data": {
      "text/html": [
       "<div>\n",
       "<style scoped>\n",
       "    .dataframe tbody tr th:only-of-type {\n",
       "        vertical-align: middle;\n",
       "    }\n",
       "\n",
       "    .dataframe tbody tr th {\n",
       "        vertical-align: top;\n",
       "    }\n",
       "\n",
       "    .dataframe thead th {\n",
       "        text-align: right;\n",
       "    }\n",
       "</style>\n",
       "<table border=\"1\" class=\"dataframe\">\n",
       "  <thead>\n",
       "    <tr style=\"text-align: right;\">\n",
       "      <th></th>\n",
       "      <th>Importance</th>\n",
       "    </tr>\n",
       "    <tr>\n",
       "      <th>Feature</th>\n",
       "      <th></th>\n",
       "    </tr>\n",
       "  </thead>\n",
       "  <tbody>\n",
       "    <tr>\n",
       "      <th>SUICIDE</th>\n",
       "      <td>0.066679</td>\n",
       "    </tr>\n",
       "    <tr>\n",
       "      <th>KILL</th>\n",
       "      <td>0.063625</td>\n",
       "    </tr>\n",
       "    <tr>\n",
       "      <th>ME.</th>\n",
       "      <td>0.042326</td>\n",
       "    </tr>\n",
       "    <tr>\n",
       "      <th>END</th>\n",
       "      <td>0.033182</td>\n",
       "    </tr>\n",
       "    <tr>\n",
       "      <th>SUICIDAL</th>\n",
       "      <td>0.026878</td>\n",
       "    </tr>\n",
       "  </tbody>\n",
       "</table>\n",
       "</div>"
      ],
      "text/plain": [
       "          Importance\n",
       "Feature             \n",
       "SUICIDE     0.066679\n",
       "KILL        0.063625\n",
       "ME.         0.042326\n",
       "END         0.033182\n",
       "SUICIDAL    0.026878"
      ]
     },
     "execution_count": 64,
     "metadata": {},
     "output_type": "execute_result"
    }
   ],
   "source": [
    "Feature_Importance = pd.DataFrame(\n",
    "    {\"Feature\": X_train.columns, \"Importance\": Model_best.feature_importances_}\n",
    ")\n",
    "Feature_Importance.sort_values(by=\"Importance\", ascending=False, inplace=True)\n",
    "Feature_Importance.set_index(\"Feature\", inplace=True)\n",
    "Feature_Importance.head()"
   ]
  },
  {
   "cell_type": "code",
   "execution_count": 65,
   "id": "2c72f779",
   "metadata": {
    "execution": {
     "iopub.execute_input": "2024-05-11T02:26:23.238314Z",
     "iopub.status.busy": "2024-05-11T02:26:23.177895Z",
     "iopub.status.idle": "2024-05-11T02:26:23.415917Z",
     "shell.execute_reply": "2024-05-11T02:26:23.415397Z",
     "shell.execute_reply.started": "2022-03-07T11:29:22.01035Z"
    },
    "papermill": {
     "duration": 0.344804,
     "end_time": "2024-05-11T02:26:23.416033",
     "exception": false,
     "start_time": "2024-05-11T02:26:23.071229",
     "status": "completed"
    },
    "tags": []
   },
   "outputs": [
    {
     "data": {
      "image/png": "[encoded data removed]",
      "text/plain": [
       "<Figure size 1500x500 with 1 Axes>"
      ]
     },
     "metadata": {},
     "output_type": "display_data"
    }
   ],
   "source": [
    "temp = Feature_Importance.head(20)\n",
    "plt.figure(figsize=(15, 5))\n",
    "sns.barplot(x=temp.Importance, y=temp.index)\n",
    "plt.title(\"Features vs Importances\")\n",
    "plt.show()"
   ]
  },
  {
   "cell_type": "code",
   "execution_count": 66,
   "id": "e5de10b2",
   "metadata": {
    "execution": {
     "iopub.execute_input": "2024-05-11T02:26:23.582782Z",
     "iopub.status.busy": "2024-05-11T02:26:23.582172Z",
     "iopub.status.idle": "2024-05-11T02:26:23.584706Z",
     "shell.execute_reply": "2024-05-11T02:26:23.584270Z",
     "shell.execute_reply.started": "2022-03-07T11:29:22.370397Z"
    },
    "papermill": {
     "duration": 0.087017,
     "end_time": "2024-05-11T02:26:23.584830",
     "exception": false,
     "start_time": "2024-05-11T02:26:23.497813",
     "status": "completed"
    },
    "tags": []
   },
   "outputs": [],
   "source": [
    "# We can also obtain the words/variables with the lowest importances"
   ]
  },
  {
   "cell_type": "code",
   "execution_count": 67,
   "id": "fcd6039a",
   "metadata": {
    "execution": {
     "iopub.execute_input": "2024-05-11T02:26:23.829085Z",
     "iopub.status.busy": "2024-05-11T02:26:23.778251Z",
     "iopub.status.idle": "2024-05-11T02:26:24.009208Z",
     "shell.execute_reply": "2024-05-11T02:26:24.008686Z",
     "shell.execute_reply.started": "2022-03-07T11:29:22.375985Z"
    },
    "papermill": {
     "duration": 0.34403,
     "end_time": "2024-05-11T02:26:24.009321",
     "exception": false,
     "start_time": "2024-05-11T02:26:23.665291",
     "status": "completed"
    },
    "tags": []
   },
   "outputs": [
    {
     "data": {
      "image/png": "[encoded data removed]",
      "text/plain": [
       "<Figure size 1500x500 with 1 Axes>"
      ]
     },
     "metadata": {},
     "output_type": "display_data"
    }
   ],
   "source": [
    "temp = Feature_Importance.tail(20)\n",
    "plt.figure(figsize=(15, 5))\n",
    "sns.barplot(x=temp.Importance, y=temp.index)\n",
    "plt.title(\"Features vs Importances\")\n",
    "plt.show()"
   ]
  },
  {
   "cell_type": "code",
   "execution_count": 68,
   "id": "6503a4a1",
   "metadata": {
    "execution": {
     "iopub.execute_input": "2024-05-11T02:26:24.169567Z",
     "iopub.status.busy": "2024-05-11T02:26:24.168938Z",
     "iopub.status.idle": "2024-05-11T02:26:24.171765Z",
     "shell.execute_reply": "2024-05-11T02:26:24.171187Z",
     "shell.execute_reply.started": "2022-03-07T11:29:22.725343Z"
    },
    "papermill": {
     "duration": 0.083926,
     "end_time": "2024-05-11T02:26:24.171917",
     "exception": false,
     "start_time": "2024-05-11T02:26:24.087991",
     "status": "completed"
    },
    "tags": []
   },
   "outputs": [],
   "source": [
    "# As we can see the model overfits the data slightly. However relative to the amount of data used for training and testing the\n",
    "# model has performed well. We can improve the scores by further HP tuning."
   ]
  },
  {
   "cell_type": "code",
   "execution_count": 69,
   "id": "cc8bc6a9",
   "metadata": {
    "execution": {
     "iopub.execute_input": "2024-05-11T02:26:24.335411Z",
     "iopub.status.busy": "2024-05-11T02:26:24.334895Z",
     "iopub.status.idle": "2024-05-11T02:26:24.339546Z",
     "shell.execute_reply": "2024-05-11T02:26:24.338964Z",
     "shell.execute_reply.started": "2022-03-07T11:29:22.731307Z"
    },
    "papermill": {
     "duration": 0.088398,
     "end_time": "2024-05-11T02:26:24.339679",
     "exception": false,
     "start_time": "2024-05-11T02:26:24.251281",
     "status": "completed"
    },
    "tags": []
   },
   "outputs": [],
   "source": [
    "# Now we will include the Length variable as well in our model."
   ]
  },
  {
   "cell_type": "code",
   "execution_count": 70,
   "id": "e7a0a313",
   "metadata": {
    "execution": {
     "iopub.execute_input": "2024-05-11T02:26:24.616047Z",
     "iopub.status.busy": "2024-05-11T02:26:24.615374Z",
     "iopub.status.idle": "2024-05-11T02:26:25.104998Z",
     "shell.execute_reply": "2024-05-11T02:26:25.105481Z",
     "shell.execute_reply.started": "2022-03-07T11:29:22.746253Z"
    },
    "papermill": {
     "duration": 0.687245,
     "end_time": "2024-05-11T02:26:25.105636",
     "exception": false,
     "start_time": "2024-05-11T02:26:24.418391",
     "status": "completed"
    },
    "tags": []
   },
   "outputs": [
    {
     "data": {
      "text/html": [
       "<div>\n",
       "<style scoped>\n",
       "    .dataframe tbody tr th:only-of-type {\n",
       "        vertical-align: middle;\n",
       "    }\n",
       "\n",
       "    .dataframe tbody tr th {\n",
       "        vertical-align: top;\n",
       "    }\n",
       "\n",
       "    .dataframe thead th {\n",
       "        text-align: right;\n",
       "    }\n",
       "</style>\n",
       "<table border=\"1\" class=\"dataframe\">\n",
       "  <thead>\n",
       "    <tr style=\"text-align: right;\">\n",
       "      <th></th>\n",
       "      <th>Length</th>\n",
       "      <th>SOME</th>\n",
       "      <th>ME.</th>\n",
       "      <th>FILLER</th>\n",
       "      <th>WE</th>\n",
       "      <th>HAS</th>\n",
       "      <th>FUCKING</th>\n",
       "      <th>WHY</th>\n",
       "      <th>BEING</th>\n",
       "      <th>ANY</th>\n",
       "      <th>...</th>\n",
       "      <th>WEIRD</th>\n",
       "      <th>WHAT'S</th>\n",
       "      <th>LONGER</th>\n",
       "      <th>OTHERS</th>\n",
       "      <th>THANK</th>\n",
       "      <th>SUPPOSED</th>\n",
       "      <th>HEAR</th>\n",
       "      <th>FRIENDS.</th>\n",
       "      <th>MOTHER</th>\n",
       "      <th>LOVED</th>\n",
       "    </tr>\n",
       "  </thead>\n",
       "  <tbody>\n",
       "    <tr>\n",
       "      <th>15131</th>\n",
       "      <td>29</td>\n",
       "      <td>0</td>\n",
       "      <td>0</td>\n",
       "      <td>0</td>\n",
       "      <td>0</td>\n",
       "      <td>0</td>\n",
       "      <td>0</td>\n",
       "      <td>0</td>\n",
       "      <td>0</td>\n",
       "      <td>0</td>\n",
       "      <td>...</td>\n",
       "      <td>0</td>\n",
       "      <td>0</td>\n",
       "      <td>0</td>\n",
       "      <td>0</td>\n",
       "      <td>0</td>\n",
       "      <td>0</td>\n",
       "      <td>0</td>\n",
       "      <td>0</td>\n",
       "      <td>0</td>\n",
       "      <td>0</td>\n",
       "    </tr>\n",
       "    <tr>\n",
       "      <th>153315</th>\n",
       "      <td>274</td>\n",
       "      <td>1</td>\n",
       "      <td>0</td>\n",
       "      <td>0</td>\n",
       "      <td>1</td>\n",
       "      <td>1</td>\n",
       "      <td>0</td>\n",
       "      <td>0</td>\n",
       "      <td>0</td>\n",
       "      <td>0</td>\n",
       "      <td>...</td>\n",
       "      <td>0</td>\n",
       "      <td>0</td>\n",
       "      <td>0</td>\n",
       "      <td>0</td>\n",
       "      <td>0</td>\n",
       "      <td>0</td>\n",
       "      <td>0</td>\n",
       "      <td>0</td>\n",
       "      <td>0</td>\n",
       "      <td>0</td>\n",
       "    </tr>\n",
       "    <tr>\n",
       "      <th>115407</th>\n",
       "      <td>35</td>\n",
       "      <td>0</td>\n",
       "      <td>0</td>\n",
       "      <td>0</td>\n",
       "      <td>0</td>\n",
       "      <td>0</td>\n",
       "      <td>0</td>\n",
       "      <td>0</td>\n",
       "      <td>0</td>\n",
       "      <td>0</td>\n",
       "      <td>...</td>\n",
       "      <td>0</td>\n",
       "      <td>0</td>\n",
       "      <td>0</td>\n",
       "      <td>0</td>\n",
       "      <td>0</td>\n",
       "      <td>0</td>\n",
       "      <td>0</td>\n",
       "      <td>0</td>\n",
       "      <td>0</td>\n",
       "      <td>0</td>\n",
       "    </tr>\n",
       "    <tr>\n",
       "      <th>189274</th>\n",
       "      <td>19</td>\n",
       "      <td>0</td>\n",
       "      <td>0</td>\n",
       "      <td>0</td>\n",
       "      <td>0</td>\n",
       "      <td>0</td>\n",
       "      <td>0</td>\n",
       "      <td>0</td>\n",
       "      <td>0</td>\n",
       "      <td>0</td>\n",
       "      <td>...</td>\n",
       "      <td>0</td>\n",
       "      <td>0</td>\n",
       "      <td>0</td>\n",
       "      <td>0</td>\n",
       "      <td>0</td>\n",
       "      <td>0</td>\n",
       "      <td>0</td>\n",
       "      <td>0</td>\n",
       "      <td>0</td>\n",
       "      <td>0</td>\n",
       "    </tr>\n",
       "    <tr>\n",
       "      <th>85559</th>\n",
       "      <td>37</td>\n",
       "      <td>1</td>\n",
       "      <td>0</td>\n",
       "      <td>0</td>\n",
       "      <td>0</td>\n",
       "      <td>0</td>\n",
       "      <td>0</td>\n",
       "      <td>0</td>\n",
       "      <td>0</td>\n",
       "      <td>0</td>\n",
       "      <td>...</td>\n",
       "      <td>0</td>\n",
       "      <td>0</td>\n",
       "      <td>1</td>\n",
       "      <td>0</td>\n",
       "      <td>0</td>\n",
       "      <td>0</td>\n",
       "      <td>0</td>\n",
       "      <td>0</td>\n",
       "      <td>0</td>\n",
       "      <td>0</td>\n",
       "    </tr>\n",
       "  </tbody>\n",
       "</table>\n",
       "<p>5 rows × 381 columns</p>\n",
       "</div>"
      ],
      "text/plain": [
       "        Length  SOME  ME.  FILLER  WE  HAS  FUCKING  WHY  BEING  ANY  ...  \\\n",
       "15131       29     0    0       0   0    0        0    0      0    0  ...   \n",
       "153315     274     1    0       0   1    1        0    0      0    0  ...   \n",
       "115407      35     0    0       0   0    0        0    0      0    0  ...   \n",
       "189274      19     0    0       0   0    0        0    0      0    0  ...   \n",
       "85559       37     1    0       0   0    0        0    0      0    0  ...   \n",
       "\n",
       "        WEIRD  WHAT'S  LONGER  OTHERS  THANK  SUPPOSED  HEAR  FRIENDS.  \\\n",
       "15131       0       0       0       0      0         0     0         0   \n",
       "153315      0       0       0       0      0         0     0         0   \n",
       "115407      0       0       0       0      0         0     0         0   \n",
       "189274      0       0       0       0      0         0     0         0   \n",
       "85559       0       0       1       0      0         0     0         0   \n",
       "\n",
       "        MOTHER  LOVED  \n",
       "15131        0      0  \n",
       "153315       0      0  \n",
       "115407       0      0  \n",
       "189274       0      0  \n",
       "85559        0      0  \n",
       "\n",
       "[5 rows x 381 columns]"
      ]
     },
     "execution_count": 70,
     "metadata": {},
     "output_type": "execute_result"
    }
   ],
   "source": [
    "X = Suicide.drop(\"class\", axis=1)\n",
    "y = Suicide[\"class\"]\n",
    "X_train, X_test, y_train, y_test = train_test_split(\n",
    "    X, y, train_size=0.01, random_state=100\n",
    ")\n",
    "X_train.head()"
   ]
  },
  {
   "cell_type": "code",
   "execution_count": 71,
   "id": "3e561357",
   "metadata": {
    "execution": {
     "iopub.execute_input": "2024-05-11T02:26:25.269871Z",
     "iopub.status.busy": "2024-05-11T02:26:25.269142Z",
     "iopub.status.idle": "2024-05-11T02:26:25.272659Z",
     "shell.execute_reply": "2024-05-11T02:26:25.272147Z",
     "shell.execute_reply.started": "2022-03-07T11:29:23.629194Z"
    },
    "papermill": {
     "duration": 0.088233,
     "end_time": "2024-05-11T02:26:25.272791",
     "exception": false,
     "start_time": "2024-05-11T02:26:25.184558",
     "status": "completed"
    },
    "tags": []
   },
   "outputs": [],
   "source": [
    "from sklearn.ensemble import RandomForestClassifier\n",
    "from sklearn.model_selection import GridSearchCV\n",
    "from sklearn.metrics import accuracy_score, recall_score"
   ]
  },
  {
   "cell_type": "code",
   "execution_count": 72,
   "id": "2032eaac",
   "metadata": {
    "execution": {
     "iopub.execute_input": "2024-05-11T02:26:25.437202Z",
     "iopub.status.busy": "2024-05-11T02:26:25.436344Z",
     "iopub.status.idle": "2024-05-11T02:28:35.807737Z",
     "shell.execute_reply": "2024-05-11T02:28:35.808164Z",
     "shell.execute_reply.started": "2022-03-07T11:29:23.63572Z"
    },
    "papermill": {
     "duration": 130.457198,
     "end_time": "2024-05-11T02:28:35.808310",
     "exception": false,
     "start_time": "2024-05-11T02:26:25.351112",
     "status": "completed"
    },
    "tags": []
   },
   "outputs": [
    {
     "name": "stdout",
     "output_type": "stream",
     "text": [
      "Fitting 5 folds for each of 70 candidates, totalling 350 fits\n"
     ]
    },
    {
     "data": {
      "text/html": [
       "<style>#sk-container-id-2 {\n",
       "  /* Definition of color scheme common for light and dark mode */\n",
       "  --sklearn-color-text: black;\n",
       "  --sklearn-color-line: gray;\n",
       "  /* Definition of color scheme for unfitted estimators */\n",
       "  --sklearn-color-unfitted-level-0: #fff5e6;\n",
       "  --sklearn-color-unfitted-level-1: #f6e4d2;\n",
       "  --sklearn-color-unfitted-level-2: #ffe0b3;\n",
       "  --sklearn-color-unfitted-level-3: chocolate;\n",
       "  /* Definition of color scheme for fitted estimators */\n",
       "  --sklearn-color-fitted-level-0: #f0f8ff;\n",
       "  --sklearn-color-fitted-level-1: #d4ebff;\n",
       "  --sklearn-color-fitted-level-2: #b3dbfd;\n",
       "  --sklearn-color-fitted-level-3: cornflowerblue;\n",
       "\n",
       "  /* Specific color for light theme */\n",
       "  --sklearn-color-text-on-default-background: var(--sg-text-color, var(--theme-code-foreground, var(--jp-content-font-color1, black)));\n",
       "  --sklearn-color-background: var(--sg-background-color, var(--theme-background, var(--jp-layout-color0, white)));\n",
       "  --sklearn-color-border-box: var(--sg-text-color, var(--theme-code-foreground, var(--jp-content-font-color1, black)));\n",
       "  --sklearn-color-icon: #696969;\n",
       "\n",
       "  @media (prefers-color-scheme: dark) {\n",
       "    /* Redefinition of color scheme for dark theme */\n",
       "    --sklearn-color-text-on-default-background: var(--sg-text-color, var(--theme-code-foreground, var(--jp-content-font-color1, white)));\n",
       "    --sklearn-color-background: var(--sg-background-color, var(--theme-background, var(--jp-layout-color0, #111)));\n",
       "    --sklearn-color-border-box: var(--sg-text-color, var(--theme-code-foreground, var(--jp-content-font-color1, white)));\n",
       "    --sklearn-color-icon: #878787;\n",
       "  }\n",
       "}\n",
       "\n",
       "#sk-container-id-2 {\n",
       "  color: var(--sklearn-color-text);\n",
       "}\n",
       "\n",
       "#sk-container-id-2 pre {\n",
       "  padding: 0;\n",
       "}\n",
       "\n",
       "#sk-container-id-2 input.sk-hidden--visually {\n",
       "  border: 0;\n",
       "  clip: rect(1px 1px 1px 1px);\n",
       "  clip: rect(1px, 1px, 1px, 1px);\n",
       "  height: 1px;\n",
       "  margin: -1px;\n",
       "  overflow: hidden;\n",
       "  padding: 0;\n",
       "  position: absolute;\n",
       "  width: 1px;\n",
       "}\n",
       "\n",
       "#sk-container-id-2 div.sk-dashed-wrapped {\n",
       "  border: 1px dashed var(--sklearn-color-line);\n",
       "  margin: 0 0.4em 0.5em 0.4em;\n",
       "  box-sizing: border-box;\n",
       "  padding-bottom: 0.4em;\n",
       "  background-color: var(--sklearn-color-background);\n",
       "}\n",
       "\n",
       "#sk-container-id-2 div.sk-container {\n",
       "  /* jupyter's `normalize.less` sets `[hidden] { display: none; }`\n",
       "     but bootstrap.min.css set `[hidden] { display: none !important; }`\n",
       "     so we also need the `!important` here to be able to override the\n",
       "     default hidden behavior on the sphinx rendered scikit-learn.org.\n",
       "     See: https://github.com/scikit-learn/scikit-learn/issues/21755 */\n",
       "  display: inline-block !important;\n",
       "  position: relative;\n",
       "}\n",
       "\n",
       "#sk-container-id-2 div.sk-text-repr-fallback {\n",
       "  display: none;\n",
       "}\n",
       "\n",
       "div.sk-parallel-item,\n",
       "div.sk-serial,\n",
       "div.sk-item {\n",
       "  /* draw centered vertical line to link estimators */\n",
       "  background-image: linear-gradient(var(--sklearn-color-text-on-default-background), var(--sklearn-color-text-on-default-background));\n",
       "  background-size: 2px 100%;\n",
       "  background-repeat: no-repeat;\n",
       "  background-position: center center;\n",
       "}\n",
       "\n",
       "/* Parallel-specific style estimator block */\n",
       "\n",
       "#sk-container-id-2 div.sk-parallel-item::after {\n",
       "  content: \"\";\n",
       "  width: 100%;\n",
       "  border-bottom: 2px solid var(--sklearn-color-text-on-default-background);\n",
       "  flex-grow: 1;\n",
       "}\n",
       "\n",
       "#sk-container-id-2 div.sk-parallel {\n",
       "  display: flex;\n",
       "  align-items: stretch;\n",
       "  justify-content: center;\n",
       "  background-color: var(--sklearn-color-background);\n",
       "  position: relative;\n",
       "}\n",
       "\n",
       "#sk-container-id-2 div.sk-parallel-item {\n",
       "  display: flex;\n",
       "  flex-direction: column;\n",
       "}\n",
       "\n",
       "#sk-container-id-2 div.sk-parallel-item:first-child::after {\n",
       "  align-self: flex-end;\n",
       "  width: 50%;\n",
       "}\n",
       "\n",
       "#sk-container-id-2 div.sk-parallel-item:last-child::after {\n",
       "  align-self: flex-start;\n",
       "  width: 50%;\n",
       "}\n",
       "\n",
       "#sk-container-id-2 div.sk-parallel-item:only-child::after {\n",
       "  width: 0;\n",
       "}\n",
       "\n",
       "/* Serial-specific style estimator block */\n",
       "\n",
       "#sk-container-id-2 div.sk-serial {\n",
       "  display: flex;\n",
       "  flex-direction: column;\n",
       "  align-items: center;\n",
       "  background-color: var(--sklearn-color-background);\n",
       "  padding-right: 1em;\n",
       "  padding-left: 1em;\n",
       "}\n",
       "\n",
       "\n",
       "/* Toggleable style: style used for estimator/Pipeline/ColumnTransformer box that is\n",
       "clickable and can be expanded/collapsed.\n",
       "- Pipeline and ColumnTransformer use this feature and define the default style\n",
       "- Estimators will overwrite some part of the style using the `sk-estimator` class\n",
       "*/\n",
       "\n",
       "/* Pipeline and ColumnTransformer style (default) */\n",
       "\n",
       "#sk-container-id-2 div.sk-toggleable {\n",
       "  /* Default theme specific background. It is overwritten whether we have a\n",
       "  specific estimator or a Pipeline/ColumnTransformer */\n",
       "  background-color: var(--sklearn-color-background);\n",
       "}\n",
       "\n",
       "/* Toggleable label */\n",
       "#sk-container-id-2 label.sk-toggleable__label {\n",
       "  cursor: pointer;\n",
       "  display: block;\n",
       "  width: 100%;\n",
       "  margin-bottom: 0;\n",
       "  padding: 0.5em;\n",
       "  box-sizing: border-box;\n",
       "  text-align: center;\n",
       "}\n",
       "\n",
       "#sk-container-id-2 label.sk-toggleable__label-arrow:before {\n",
       "  /* Arrow on the left of the label */\n",
       "  content: \"▸\";\n",
       "  float: left;\n",
       "  margin-right: 0.25em;\n",
       "  color: var(--sklearn-color-icon);\n",
       "}\n",
       "\n",
       "#sk-container-id-2 label.sk-toggleable__label-arrow:hover:before {\n",
       "  color: var(--sklearn-color-text);\n",
       "}\n",
       "\n",
       "/* Toggleable content - dropdown */\n",
       "\n",
       "#sk-container-id-2 div.sk-toggleable__content {\n",
       "  max-height: 0;\n",
       "  max-width: 0;\n",
       "  overflow: hidden;\n",
       "  text-align: left;\n",
       "  /* unfitted */\n",
       "  background-color: var(--sklearn-color-unfitted-level-0);\n",
       "}\n",
       "\n",
       "#sk-container-id-2 div.sk-toggleable__content.fitted {\n",
       "  /* fitted */\n",
       "  background-color: var(--sklearn-color-fitted-level-0);\n",
       "}\n",
       "\n",
       "#sk-container-id-2 div.sk-toggleable__content pre {\n",
       "  margin: 0.2em;\n",
       "  border-radius: 0.25em;\n",
       "  color: var(--sklearn-color-text);\n",
       "  /* unfitted */\n",
       "  background-color: var(--sklearn-color-unfitted-level-0);\n",
       "}\n",
       "\n",
       "#sk-container-id-2 div.sk-toggleable__content.fitted pre {\n",
       "  /* unfitted */\n",
       "  background-color: var(--sklearn-color-fitted-level-0);\n",
       "}\n",
       "\n",
       "#sk-container-id-2 input.sk-toggleable__control:checked~div.sk-toggleable__content {\n",
       "  /* Expand drop-down */\n",
       "  max-height: 200px;\n",
       "  max-width: 100%;\n",
       "  overflow: auto;\n",
       "}\n",
       "\n",
       "#sk-container-id-2 input.sk-toggleable__control:checked~label.sk-toggleable__label-arrow:before {\n",
       "  content: \"▾\";\n",
       "}\n",
       "\n",
       "/* Pipeline/ColumnTransformer-specific style */\n",
       "\n",
       "#sk-container-id-2 div.sk-label input.sk-toggleable__control:checked~label.sk-toggleable__label {\n",
       "  color: var(--sklearn-color-text);\n",
       "  background-color: var(--sklearn-color-unfitted-level-2);\n",
       "}\n",
       "\n",
       "#sk-container-id-2 div.sk-label.fitted input.sk-toggleable__control:checked~label.sk-toggleable__label {\n",
       "  background-color: var(--sklearn-color-fitted-level-2);\n",
       "}\n",
       "\n",
       "/* Estimator-specific style */\n",
       "\n",
       "/* Colorize estimator box */\n",
       "#sk-container-id-2 div.sk-estimator input.sk-toggleable__control:checked~label.sk-toggleable__label {\n",
       "  /* unfitted */\n",
       "  background-color: var(--sklearn-color-unfitted-level-2);\n",
       "}\n",
       "\n",
       "#sk-container-id-2 div.sk-estimator.fitted input.sk-toggleable__control:checked~label.sk-toggleable__label {\n",
       "  /* fitted */\n",
       "  background-color: var(--sklearn-color-fitted-level-2);\n",
       "}\n",
       "\n",
       "#sk-container-id-2 div.sk-label label.sk-toggleable__label,\n",
       "#sk-container-id-2 div.sk-label label {\n",
       "  /* The background is the default theme color */\n",
       "  color: var(--sklearn-color-text-on-default-background);\n",
       "}\n",
       "\n",
       "/* On hover, darken the color of the background */\n",
       "#sk-container-id-2 div.sk-label:hover label.sk-toggleable__label {\n",
       "  color: var(--sklearn-color-text);\n",
       "  background-color: var(--sklearn-color-unfitted-level-2);\n",
       "}\n",
       "\n",
       "/* Label box, darken color on hover, fitted */\n",
       "#sk-container-id-2 div.sk-label.fitted:hover label.sk-toggleable__label.fitted {\n",
       "  color: var(--sklearn-color-text);\n",
       "  background-color: var(--sklearn-color-fitted-level-2);\n",
       "}\n",
       "\n",
       "/* Estimator label */\n",
       "\n",
       "#sk-container-id-2 div.sk-label label {\n",
       "  font-family: monospace;\n",
       "  font-weight: bold;\n",
       "  display: inline-block;\n",
       "  line-height: 1.2em;\n",
       "}\n",
       "\n",
       "#sk-container-id-2 div.sk-label-container {\n",
       "  text-align: center;\n",
       "}\n",
       "\n",
       "/* Estimator-specific */\n",
       "#sk-container-id-2 div.sk-estimator {\n",
       "  font-family: monospace;\n",
       "  border: 1px dotted var(--sklearn-color-border-box);\n",
       "  border-radius: 0.25em;\n",
       "  box-sizing: border-box;\n",
       "  margin-bottom: 0.5em;\n",
       "  /* unfitted */\n",
       "  background-color: var(--sklearn-color-unfitted-level-0);\n",
       "}\n",
       "\n",
       "#sk-container-id-2 div.sk-estimator.fitted {\n",
       "  /* fitted */\n",
       "  background-color: var(--sklearn-color-fitted-level-0);\n",
       "}\n",
       "\n",
       "/* on hover */\n",
       "#sk-container-id-2 div.sk-estimator:hover {\n",
       "  /* unfitted */\n",
       "  background-color: var(--sklearn-color-unfitted-level-2);\n",
       "}\n",
       "\n",
       "#sk-container-id-2 div.sk-estimator.fitted:hover {\n",
       "  /* fitted */\n",
       "  background-color: var(--sklearn-color-fitted-level-2);\n",
       "}\n",
       "\n",
       "/* Specification for estimator info (e.g. \"i\" and \"?\") */\n",
       "\n",
       "/* Common style for \"i\" and \"?\" */\n",
       "\n",
       ".sk-estimator-doc-link,\n",
       "a:link.sk-estimator-doc-link,\n",
       "a:visited.sk-estimator-doc-link {\n",
       "  float: right;\n",
       "  font-size: smaller;\n",
       "  line-height: 1em;\n",
       "  font-family: monospace;\n",
       "  background-color: var(--sklearn-color-background);\n",
       "  border-radius: 1em;\n",
       "  height: 1em;\n",
       "  width: 1em;\n",
       "  text-decoration: none !important;\n",
       "  margin-left: 1ex;\n",
       "  /* unfitted */\n",
       "  border: var(--sklearn-color-unfitted-level-1) 1pt solid;\n",
       "  color: var(--sklearn-color-unfitted-level-1);\n",
       "}\n",
       "\n",
       ".sk-estimator-doc-link.fitted,\n",
       "a:link.sk-estimator-doc-link.fitted,\n",
       "a:visited.sk-estimator-doc-link.fitted {\n",
       "  /* fitted */\n",
       "  border: var(--sklearn-color-fitted-level-1) 1pt solid;\n",
       "  color: var(--sklearn-color-fitted-level-1);\n",
       "}\n",
       "\n",
       "/* On hover */\n",
       "div.sk-estimator:hover .sk-estimator-doc-link:hover,\n",
       ".sk-estimator-doc-link:hover,\n",
       "div.sk-label-container:hover .sk-estimator-doc-link:hover,\n",
       ".sk-estimator-doc-link:hover {\n",
       "  /* unfitted */\n",
       "  background-color: var(--sklearn-color-unfitted-level-3);\n",
       "  color: var(--sklearn-color-background);\n",
       "  text-decoration: none;\n",
       "}\n",
       "\n",
       "div.sk-estimator.fitted:hover .sk-estimator-doc-link.fitted:hover,\n",
       ".sk-estimator-doc-link.fitted:hover,\n",
       "div.sk-label-container:hover .sk-estimator-doc-link.fitted:hover,\n",
       ".sk-estimator-doc-link.fitted:hover {\n",
       "  /* fitted */\n",
       "  background-color: var(--sklearn-color-fitted-level-3);\n",
       "  color: var(--sklearn-color-background);\n",
       "  text-decoration: none;\n",
       "}\n",
       "\n",
       "/* Span, style for the box shown on hovering the info icon */\n",
       ".sk-estimator-doc-link span {\n",
       "  display: none;\n",
       "  z-index: 9999;\n",
       "  position: relative;\n",
       "  font-weight: normal;\n",
       "  right: .2ex;\n",
       "  padding: .5ex;\n",
       "  margin: .5ex;\n",
       "  width: min-content;\n",
       "  min-width: 20ex;\n",
       "  max-width: 50ex;\n",
       "  color: var(--sklearn-color-text);\n",
       "  box-shadow: 2pt 2pt 4pt #999;\n",
       "  /* unfitted */\n",
       "  background: var(--sklearn-color-unfitted-level-0);\n",
       "  border: .5pt solid var(--sklearn-color-unfitted-level-3);\n",
       "}\n",
       "\n",
       ".sk-estimator-doc-link.fitted span {\n",
       "  /* fitted */\n",
       "  background: var(--sklearn-color-fitted-level-0);\n",
       "  border: var(--sklearn-color-fitted-level-3);\n",
       "}\n",
       "\n",
       ".sk-estimator-doc-link:hover span {\n",
       "  display: block;\n",
       "}\n",
       "\n",
       "/* \"?\"-specific style due to the `<a>` HTML tag */\n",
       "\n",
       "#sk-container-id-2 a.estimator_doc_link {\n",
       "  float: right;\n",
       "  font-size: 1rem;\n",
       "  line-height: 1em;\n",
       "  font-family: monospace;\n",
       "  background-color: var(--sklearn-color-background);\n",
       "  border-radius: 1rem;\n",
       "  height: 1rem;\n",
       "  width: 1rem;\n",
       "  text-decoration: none;\n",
       "  /* unfitted */\n",
       "  color: var(--sklearn-color-unfitted-level-1);\n",
       "  border: var(--sklearn-color-unfitted-level-1) 1pt solid;\n",
       "}\n",
       "\n",
       "#sk-container-id-2 a.estimator_doc_link.fitted {\n",
       "  /* fitted */\n",
       "  border: var(--sklearn-color-fitted-level-1) 1pt solid;\n",
       "  color: var(--sklearn-color-fitted-level-1);\n",
       "}\n",
       "\n",
       "/* On hover */\n",
       "#sk-container-id-2 a.estimator_doc_link:hover {\n",
       "  /* unfitted */\n",
       "  background-color: var(--sklearn-color-unfitted-level-3);\n",
       "  color: var(--sklearn-color-background);\n",
       "  text-decoration: none;\n",
       "}\n",
       "\n",
       "#sk-container-id-2 a.estimator_doc_link.fitted:hover {\n",
       "  /* fitted */\n",
       "  background-color: var(--sklearn-color-fitted-level-3);\n",
       "}\n",
       "</style><div id=\"sk-container-id-2\" class=\"sk-top-container\"><div class=\"sk-text-repr-fallback\"><pre>GridSearchCV(estimator=RandomForestClassifier(n_jobs=-1, random_state=100),\n",
       "             n_jobs=-1,\n",
       "             param_grid={&#x27;criterion&#x27;: [&#x27;gini&#x27;, &#x27;entropy&#x27;],\n",
       "                         &#x27;max_depth&#x27;: [3, 5, 10, 12, 15, 17, 20],\n",
       "                         &#x27;max_features&#x27;: [0.1, 0.15, 0.2, 0.25, 0.3],\n",
       "                         &#x27;n_estimators&#x27;: [200]},\n",
       "             scoring=&#x27;accuracy&#x27;, verbose=1)</pre><b>In a Jupyter environment, please rerun this cell to show the HTML representation or trust the notebook. <br />On GitHub, the HTML representation is unable to render, please try loading this page with nbviewer.org.</b></div><div class=\"sk-container\" hidden><div class=\"sk-item sk-dashed-wrapped\"><div class=\"sk-label-container\"><div class=\"sk-label fitted sk-toggleable\"><input class=\"sk-toggleable__control sk-hidden--visually\" id=\"sk-estimator-id-4\" type=\"checkbox\" ><label for=\"sk-estimator-id-4\" class=\"sk-toggleable__label fitted sk-toggleable__label-arrow fitted\">&nbsp;&nbsp;GridSearchCV<a class=\"sk-estimator-doc-link fitted\" rel=\"noreferrer\" target=\"_blank\" href=\"https://scikit-learn.org/1.4/modules/generated/sklearn.model_selection.GridSearchCV.html\">?<span>Documentation for GridSearchCV</span></a><span class=\"sk-estimator-doc-link fitted\">i<span>Fitted</span></span></label><div class=\"sk-toggleable__content fitted\"><pre>GridSearchCV(estimator=RandomForestClassifier(n_jobs=-1, random_state=100),\n",
       "             n_jobs=-1,\n",
       "             param_grid={&#x27;criterion&#x27;: [&#x27;gini&#x27;, &#x27;entropy&#x27;],\n",
       "                         &#x27;max_depth&#x27;: [3, 5, 10, 12, 15, 17, 20],\n",
       "                         &#x27;max_features&#x27;: [0.1, 0.15, 0.2, 0.25, 0.3],\n",
       "                         &#x27;n_estimators&#x27;: [200]},\n",
       "             scoring=&#x27;accuracy&#x27;, verbose=1)</pre></div> </div></div><div class=\"sk-parallel\"><div class=\"sk-parallel-item\"><div class=\"sk-item\"><div class=\"sk-label-container\"><div class=\"sk-label fitted sk-toggleable\"><input class=\"sk-toggleable__control sk-hidden--visually\" id=\"sk-estimator-id-5\" type=\"checkbox\" ><label for=\"sk-estimator-id-5\" class=\"sk-toggleable__label fitted sk-toggleable__label-arrow fitted\">estimator: RandomForestClassifier</label><div class=\"sk-toggleable__content fitted\"><pre>RandomForestClassifier(n_jobs=-1, random_state=100)</pre></div> </div></div><div class=\"sk-serial\"><div class=\"sk-item\"><div class=\"sk-estimator fitted sk-toggleable\"><input class=\"sk-toggleable__control sk-hidden--visually\" id=\"sk-estimator-id-6\" type=\"checkbox\" ><label for=\"sk-estimator-id-6\" class=\"sk-toggleable__label fitted sk-toggleable__label-arrow fitted\">&nbsp;RandomForestClassifier<a class=\"sk-estimator-doc-link fitted\" rel=\"noreferrer\" target=\"_blank\" href=\"https://scikit-learn.org/1.4/modules/generated/sklearn.ensemble.RandomForestClassifier.html\">?<span>Documentation for RandomForestClassifier</span></a></label><div class=\"sk-toggleable__content fitted\"><pre>RandomForestClassifier(n_jobs=-1, random_state=100)</pre></div> </div></div></div></div></div></div></div></div></div>"
      ],
      "text/plain": [
       "GridSearchCV(estimator=RandomForestClassifier(n_jobs=-1, random_state=100),\n",
       "             n_jobs=-1,\n",
       "             param_grid={'criterion': ['gini', 'entropy'],\n",
       "                         'max_depth': [3, 5, 10, 12, 15, 17, 20],\n",
       "                         'max_features': [0.1, 0.15, 0.2, 0.25, 0.3],\n",
       "                         'n_estimators': [200]},\n",
       "             scoring='accuracy', verbose=1)"
      ]
     },
     "execution_count": 72,
     "metadata": {},
     "output_type": "execute_result"
    }
   ],
   "source": [
    "Model = RandomForestClassifier(random_state=100, n_jobs=-1)\n",
    "\n",
    "params = {\n",
    "    \"n_estimators\": [200],\n",
    "    \"max_depth\": [3, 5, 10, 12, 15, 17, 20],\n",
    "    \"max_features\": [0.1, 0.15, 0.2, 0.25, 0.3],\n",
    "    \"criterion\": [\"gini\", \"entropy\"],\n",
    "}\n",
    "\n",
    "grid_search = GridSearchCV(\n",
    "    estimator=Model, param_grid=params, verbose=1, n_jobs=-1, scoring=\"accuracy\"\n",
    ")\n",
    "grid_search.fit(X_train, y_train)"
   ]
  },
  {
   "cell_type": "code",
   "execution_count": 73,
   "id": "727d994d",
   "metadata": {
    "execution": {
     "iopub.execute_input": "2024-05-11T02:28:35.976753Z",
     "iopub.status.busy": "2024-05-11T02:28:35.976011Z",
     "iopub.status.idle": "2024-05-11T02:28:35.978327Z",
     "shell.execute_reply": "2024-05-11T02:28:35.977801Z",
     "shell.execute_reply.started": "2022-03-07T11:32:26.334691Z"
    },
    "papermill": {
     "duration": 0.087513,
     "end_time": "2024-05-11T02:28:35.978448",
     "exception": false,
     "start_time": "2024-05-11T02:28:35.890935",
     "status": "completed"
    },
    "tags": []
   },
   "outputs": [],
   "source": [
    "Model_best = grid_search.best_estimator_"
   ]
  },
  {
   "cell_type": "code",
   "execution_count": 74,
   "id": "c6c35d87",
   "metadata": {
    "execution": {
     "iopub.execute_input": "2024-05-11T02:28:36.145107Z",
     "iopub.status.busy": "2024-05-11T02:28:36.144435Z",
     "iopub.status.idle": "2024-05-11T02:28:38.169707Z",
     "shell.execute_reply": "2024-05-11T02:28:38.170220Z",
     "shell.execute_reply.started": "2022-03-07T11:32:26.341121Z"
    },
    "papermill": {
     "duration": 2.108489,
     "end_time": "2024-05-11T02:28:38.170367",
     "exception": false,
     "start_time": "2024-05-11T02:28:36.061878",
     "status": "completed"
    },
    "tags": []
   },
   "outputs": [
    {
     "name": "stdout",
     "output_type": "stream",
     "text": [
      "Train accuracy score : 0.9377692675921494\n",
      "Test accuracy score : 0.8369185849777151\n",
      "Train recall score : 0.8582333696837514\n",
      "Test recall score : 0.7758680941639927\n"
     ]
    }
   ],
   "source": [
    "y_train_pred = Model_best.predict(X_train)\n",
    "y_test_pred = Model_best.predict(X_test)\n",
    "\n",
    "print(\"Train accuracy score :\", accuracy_score(y_train, y_train_pred))\n",
    "print(\"Test accuracy score :\", accuracy_score(y_test, y_test_pred))\n",
    "print(\"Train recall score :\", recall_score(y_train, y_train_pred))\n",
    "print(\"Test recall score :\", recall_score(y_test, y_test_pred))"
   ]
  },
  {
   "cell_type": "code",
   "execution_count": 75,
   "id": "b51be1fe",
   "metadata": {
    "execution": {
     "iopub.execute_input": "2024-05-11T02:28:38.338591Z",
     "iopub.status.busy": "2024-05-11T02:28:38.338055Z",
     "iopub.status.idle": "2024-05-11T02:28:38.448693Z",
     "shell.execute_reply": "2024-05-11T02:28:38.448156Z",
     "shell.execute_reply.started": "2022-03-07T11:32:29.108587Z"
    },
    "papermill": {
     "duration": 0.196445,
     "end_time": "2024-05-11T02:28:38.448816",
     "exception": false,
     "start_time": "2024-05-11T02:28:38.252371",
     "status": "completed"
    },
    "tags": []
   },
   "outputs": [
    {
     "data": {
      "text/html": [
       "<div>\n",
       "<style scoped>\n",
       "    .dataframe tbody tr th:only-of-type {\n",
       "        vertical-align: middle;\n",
       "    }\n",
       "\n",
       "    .dataframe tbody tr th {\n",
       "        vertical-align: top;\n",
       "    }\n",
       "\n",
       "    .dataframe thead th {\n",
       "        text-align: right;\n",
       "    }\n",
       "</style>\n",
       "<table border=\"1\" class=\"dataframe\">\n",
       "  <thead>\n",
       "    <tr style=\"text-align: right;\">\n",
       "      <th></th>\n",
       "      <th>Importance</th>\n",
       "    </tr>\n",
       "    <tr>\n",
       "      <th>Feature</th>\n",
       "      <th></th>\n",
       "    </tr>\n",
       "  </thead>\n",
       "  <tbody>\n",
       "    <tr>\n",
       "      <th>Length</th>\n",
       "      <td>0.198716</td>\n",
       "    </tr>\n",
       "    <tr>\n",
       "      <th>SUICIDE</th>\n",
       "      <td>0.069252</td>\n",
       "    </tr>\n",
       "    <tr>\n",
       "      <th>KILL</th>\n",
       "      <td>0.060520</td>\n",
       "    </tr>\n",
       "    <tr>\n",
       "      <th>ME.</th>\n",
       "      <td>0.041317</td>\n",
       "    </tr>\n",
       "    <tr>\n",
       "      <th>END</th>\n",
       "      <td>0.027419</td>\n",
       "    </tr>\n",
       "  </tbody>\n",
       "</table>\n",
       "</div>"
      ],
      "text/plain": [
       "         Importance\n",
       "Feature            \n",
       "Length     0.198716\n",
       "SUICIDE    0.069252\n",
       "KILL       0.060520\n",
       "ME.        0.041317\n",
       "END        0.027419"
      ]
     },
     "execution_count": 75,
     "metadata": {},
     "output_type": "execute_result"
    }
   ],
   "source": [
    "Feature_Importance = pd.DataFrame(\n",
    "    {\"Feature\": X_train.columns, \"Importance\": Model_best.feature_importances_}\n",
    ")\n",
    "Feature_Importance.sort_values(by=\"Importance\", ascending=False, inplace=True)\n",
    "Feature_Importance.set_index(\"Feature\", inplace=True)\n",
    "Feature_Importance.head()"
   ]
  },
  {
   "cell_type": "code",
   "execution_count": 76,
   "id": "3ecf6876",
   "metadata": {
    "execution": {
     "iopub.execute_input": "2024-05-11T02:28:38.670318Z",
     "iopub.status.busy": "2024-05-11T02:28:38.659131Z",
     "iopub.status.idle": "2024-05-11T02:28:38.875332Z",
     "shell.execute_reply": "2024-05-11T02:28:38.874914Z",
     "shell.execute_reply.started": "2022-03-07T11:32:29.227309Z"
    },
    "papermill": {
     "duration": 0.343562,
     "end_time": "2024-05-11T02:28:38.875446",
     "exception": false,
     "start_time": "2024-05-11T02:28:38.531884",
     "status": "completed"
    },
    "tags": []
   },
   "outputs": [
    {
     "data": {
      "image/png": "[encoded data removed]",
      "text/plain": [
       "<Figure size 1500x500 with 1 Axes>"
      ]
     },
     "metadata": {},
     "output_type": "display_data"
    }
   ],
   "source": [
    "temp = Feature_Importance.head(20)\n",
    "plt.figure(figsize=(15, 5))\n",
    "sns.barplot(x=temp.Importance, y=temp.index)\n",
    "plt.title(\"Features vs Importances\")\n",
    "plt.show()"
   ]
  },
  {
   "cell_type": "code",
   "execution_count": 77,
   "id": "5893252d",
   "metadata": {
    "execution": {
     "iopub.execute_input": "2024-05-11T02:28:39.079505Z",
     "iopub.status.busy": "2024-05-11T02:28:39.078930Z",
     "iopub.status.idle": "2024-05-11T02:28:39.303242Z",
     "shell.execute_reply": "2024-05-11T02:28:39.303680Z",
     "shell.execute_reply.started": "2022-03-07T11:32:29.593044Z"
    },
    "papermill": {
     "duration": 0.345096,
     "end_time": "2024-05-11T02:28:39.303826",
     "exception": false,
     "start_time": "2024-05-11T02:28:38.958730",
     "status": "completed"
    },
    "tags": []
   },
   "outputs": [
    {
     "data": {
      "image/png": "[encoded data removed]",
      "text/plain": [
       "<Figure size 1500x500 with 1 Axes>"
      ]
     },
     "metadata": {},
     "output_type": "display_data"
    }
   ],
   "source": [
    "temp = Feature_Importance.tail(20)\n",
    "plt.figure(figsize=(15, 5))\n",
    "sns.barplot(x=temp.Importance, y=temp.index)\n",
    "plt.title(\"Features vs Importances\")\n",
    "plt.show()"
   ]
  },
  {
   "cell_type": "code",
   "execution_count": 78,
   "id": "473613d3",
   "metadata": {
    "execution": {
     "iopub.execute_input": "2024-05-11T02:28:39.471185Z",
     "iopub.status.busy": "2024-05-11T02:28:39.470715Z",
     "iopub.status.idle": "2024-05-11T02:28:39.474353Z",
     "shell.execute_reply": "2024-05-11T02:28:39.473977Z",
     "shell.execute_reply.started": "2022-03-07T11:32:29.94245Z"
    },
    "papermill": {
     "duration": 0.088795,
     "end_time": "2024-05-11T02:28:39.474468",
     "exception": false,
     "start_time": "2024-05-11T02:28:39.385673",
     "status": "completed"
    },
    "tags": []
   },
   "outputs": [],
   "source": [
    "# We get similar scores to the previous model that involve a bit of overfitting."
   ]
  },
  {
   "cell_type": "code",
   "execution_count": 79,
   "id": "be8e562c",
   "metadata": {
    "execution": {
     "iopub.execute_input": "2024-05-11T02:28:39.643175Z",
     "iopub.status.busy": "2024-05-11T02:28:39.642622Z",
     "iopub.status.idle": "2024-05-11T02:28:39.645734Z",
     "shell.execute_reply": "2024-05-11T02:28:39.646141Z",
     "shell.execute_reply.started": "2022-03-07T11:32:29.949108Z"
    },
    "papermill": {
     "duration": 0.089854,
     "end_time": "2024-05-11T02:28:39.646299",
     "exception": false,
     "start_time": "2024-05-11T02:28:39.556445",
     "status": "completed"
    },
    "tags": []
   },
   "outputs": [],
   "source": []
  }
 ],
 "metadata": {
  "kernelspec": {
   "display_name": "Python 3",
   "language": "python",
   "name": "python3"
  },
  "language_info": {
   "codemirror_mode": {
    "name": "ipython",
    "version": 3
   },
   "file_extension": ".py",
   "mimetype": "text/x-python",
   "name": "python",
   "nbconvert_exporter": "python",
   "pygments_lexer": "ipython3",
   "version": "3.11.9"
  },
  "papermill": {
   "default_parameters": {},
   "duration": 782.193491,
   "end_time": "2024-05-11T02:28:41.344802",
   "environment_variables": {},
   "exception": null,
   "input_path": "__notebook__.ipynb",
   "output_path": "__notebook__.ipynb",
   "parameters": {},
   "start_time": "2024-05-11T02:15:39.151311",
   "version": "2.3.3"
  }
 },
 "nbformat": 4,
 "nbformat_minor": 5
}
