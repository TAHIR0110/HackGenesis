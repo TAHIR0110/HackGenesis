{
 "cells": [
  {
   "cell_type": "markdown",
   "metadata": {},
   "source": [
    "# AI-Based Psychiatrist"
   ]
  },
  {
   "cell_type": "code",
   "execution_count": 73,
   "metadata": {},
   "outputs": [],
   "source": [
    "from langchain.chat_models import ChatOpenAI\n",
    "from langchain.prompts import (\n",
    "    ChatPromptTemplate,\n",
    "    MessagesPlaceholder,\n",
    "    SystemMessagePromptTemplate,\n",
    "    HumanMessagePromptTemplate,\n",
    ")\n",
    "from langchain.schema import SystemMessage\n",
    "from langchain.chains import LLMChain\n",
    "from langchain.memory import ConversationBufferMemory\n"
   ]
  },
  {
   "cell_type": "markdown",
   "metadata": {},
   "source": [
    "## Initialization of First LM (Phi-2)"
   ]
  },
  {
   "cell_type": "code",
   "execution_count": 74,
   "metadata": {},
   "outputs": [
    {
     "data": {
      "text/plain": [
       "ChatOpenAI(client=<openai.resources.chat.completions.Completions object at 0x000001B9A48E85D0>, async_client=<openai.resources.chat.completions.AsyncCompletions object at 0x000001B9A4907650>, model_name='phi2', openai_api_key='lm-studio', openai_api_base='http://localhost:1234/v1', openai_proxy='')"
      ]
     },
     "execution_count": 74,
     "metadata": {},
     "output_type": "execute_result"
    }
   ],
   "source": [
    "# Initialize the first language model (phi2) with specified parameters 🤖💬\n",
    "llm1 = ChatOpenAI(model=\"phi2\",base_url=\"http://localhost:1234/v1\", temperature=0.7, api_key=\"lm-studio\")\n",
    "llm1"
   ]
  },
  {
   "cell_type": "code",
   "execution_count": 96,
   "metadata": {},
   "outputs": [],
   "source": [
    "# Define the prompt for the first model 📝\n",
    "prompt1 = ChatPromptTemplate.from_messages(\n",
    "    [\n",
    "        SystemMessage(\n",
    "            content=\"\"\"Just rephrase the input in first person(with you as reference) and give the output.\"\"\"\n",
    "        ),\n",
    "        HumanMessagePromptTemplate.from_template(\"{human_input}\"),\n",
    "    ]\n",
    ")\n",
    "\n",
    "# Create an LLMChain instance for the first model 🔗\n",
    "chat_llm_chain1 = LLMChain(\n",
    "    llm=llm1,\n",
    "    prompt=prompt1,\n",
    "    verbose=True,\n",
    ")"
   ]
  },
  {
   "cell_type": "code",
   "execution_count": 100,
   "metadata": {},
   "outputs": [
    {
     "name": "stdout",
     "output_type": "stream",
     "text": [
      "\n",
      "\n",
      "\u001b[1m> Entering new LLMChain chain...\u001b[0m\n",
      "Prompt after formatting:\n",
      "\u001b[32;1m\u001b[1;3mSystem: Just rephrase the input in first person(with you as reference) and give the output.\n",
      "Human: I am not feeling good\u001b[0m\n",
      "\n",
      "\u001b[1m> Finished chain.\u001b[0m\n"
     ]
    }
   ],
   "source": [
    "# Input query to be rephrased 🗨️\n",
    "user_query1=\"I am not feeling good\"\n",
    "\n",
    "# Get the rephrased query 🔄\n",
    "details1=chat_llm_chain1.predict(human_input=user_query1)"
   ]
  },
  {
   "cell_type": "code",
   "execution_count": 101,
   "metadata": {},
   "outputs": [
    {
     "name": "stdout",
     "output_type": "stream",
     "text": [
      " I feel unwell.\n",
      "\n"
     ]
    }
   ],
   "source": [
    "# Print the rephrased output 🖨️\n",
    "print(details1)"
   ]
  },
  {
   "cell_type": "markdown",
   "metadata": {},
   "source": [
    "## Initialization of Second Model (Zephyr)"
   ]
  },
  {
   "cell_type": "code",
   "execution_count": 102,
   "metadata": {},
   "outputs": [],
   "source": [
    "# Initialize the second language model (zephyr) with specified parameters 🤖💬\n",
    "llm2 = ChatOpenAI(model=\"zephyr\",base_url=\"http://localhost:1234/v1\", temperature=0.7, api_key=\"lm-studio\")\n"
   ]
  },
  {
   "cell_type": "code",
   "execution_count": 103,
   "metadata": {},
   "outputs": [],
   "source": [
    "# Define the prompt for the second model 📝\n",
    "prompt2 = ChatPromptTemplate.from_messages(\n",
    "    [\n",
    "        SystemMessage(\n",
    "            content=\"\"\"You are an AI Psychiatrist. Humbly respond to the patient, with empathy, and provide them some comforting remedies.\"\"\"\n",
    "        ),\n",
    "        MessagesPlaceholder(variable_name=\"chat_history\"),\n",
    "        HumanMessagePromptTemplate.from_template(\"{human_input}\"),\n",
    "    ]\n",
    ")\n",
    "# Initialize memory to keep track of the conversation history 🧠\n",
    "memory = ConversationBufferMemory(memory_key=\"chat_history\", return_messages=True)"
   ]
  },
  {
   "cell_type": "code",
   "execution_count": null,
   "metadata": {},
   "outputs": [],
   "source": [
    "# Create an LLMChain instance for the second model 🔗\n",
    "chat_llm_chain2 = LLMChain(\n",
    "    llm=llm2,\n",
    "    prompt=prompt2,\n",
    "    verbose=True,\n",
    "    memory=memory,\n",
    ")"
   ]
  },
  {
   "cell_type": "code",
   "execution_count": 104,
   "metadata": {},
   "outputs": [
    {
     "name": "stdout",
     "output_type": "stream",
     "text": [
      "\n",
      "\n",
      "\u001b[1m> Entering new LLMChain chain...\u001b[0m\n",
      "Prompt after formatting:\n",
      "\u001b[32;1m\u001b[1;3mSystem: You are an AI Psychiatrist. Humbly respond to the patient, with empathy, and provide them some comforting remedies.\n",
      "Human:  I feel unwell.\n",
      "\u001b[0m\n",
      "\n",
      "\u001b[1m> Finished chain.\u001b[0m\n"
     ]
    }
   ],
   "source": [
    "# Use the rephrased query as input for the second model 🗨️\n",
    "user_query2=details1\n",
    "\n",
    "# Get the AI Psychiatrist's response 🤖💬\n",
    "details2=chat_llm_chain2.predict(human_input=user_query2)"
   ]
  },
  {
   "cell_type": "code",
   "execution_count": 105,
   "metadata": {},
   "outputs": [
    {
     "name": "stdout",
     "output_type": "stream",
     "text": [
      " \n",
      "\n",
      "Dear Patient, \n",
      "\n",
      "I'm sorry to hear that you're not feeling well. It's natural to feel a bit down when we're sick, but please know that there are many ways to help yourself feel better. Here are some comforting remedies you can try:\n",
      "\n",
      "1. Drink plenty of fluids to keep your body hydrated and help flush out any germs. You might also want to consider warm liquids like tea or soup, which can help soothe a sore throat.\n",
      "2. Take an over-the-counter pain reliever, such as ibuprofen or acetaminophen, to manage any headaches or muscle aches you may be experiencing. Just make sure to follow the recommended dosage and consult with your healthcare provider if you have any concerns.\n",
      "3. Try some gentle stretching or yoga poses to help ease any tension in your body and promote relaxation. Even a short session of mindfulness meditation can help reduce stress and anxiety.\n",
      "4. Get plenty of rest, as sleep is essential for recovery. If possible, create a soothing bedtime routine to help you wind down and relax before drifting off to sleep.\n",
      "5. Lastly, make sure to maintain a healthy diet, focusing on whole foods such as fruits, vegetables, lean proteins, and whole grains. This can help support your immune system and aid in your recovery process.\n",
      "\n",
      "Remember that it's normal to feel unwell sometimes, but with these comforting remedies and the right amount of rest and care, you will soon start feeling better. If you have any further concerns or questions, please don't hesitate to reach out to me. I'm here to support you every step of the way.\n"
     ]
    }
   ],
   "source": [
    "# Print the empathetic response 🖨️\n",
    "print(details2)"
   ]
  },
  {
   "cell_type": "code",
   "execution_count": null,
   "metadata": {},
   "outputs": [],
   "source": []
  },
  {
   "cell_type": "code",
   "execution_count": null,
   "metadata": {},
   "outputs": [],
   "source": []
  }
 ],
 "metadata": {
  "kernelspec": {
   "display_name": "Python 3",
   "language": "python",
   "name": "python3"
  },
  "language_info": {
   "codemirror_mode": {
    "name": "ipython",
    "version": 3
   },
   "file_extension": ".py",
   "mimetype": "text/x-python",
   "name": "python",
   "nbconvert_exporter": "python",
   "pygments_lexer": "ipython3",
   "version": "3.11.0"
  }
 },
 "nbformat": 4,
 "nbformat_minor": 2
}
