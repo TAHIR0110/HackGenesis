{
 "cells": [
  {
   "cell_type": "code",
   "execution_count": 1,
   "id": "5db710a1-2600-4e29-bf55-d3fa87475ce0",
   "metadata": {},
   "outputs": [],
   "source": [
    "import os\n",
    "from langchain_openai import OpenAI"
   ]
  },
  {
   "cell_type": "code",
   "execution_count": 2,
   "id": "495ab603-3bfa-4b8c-8aed-86f7bee95ada",
   "metadata": {},
   "outputs": [],
   "source": [
    "openai.api_key = os.getenv(\"OPENAI_API_KEY\")"
   ]
  },
  {
   "cell_type": "code",
   "execution_count": 3,
   "id": "61465690-9e61-462d-b288-98e27e961b13",
   "metadata": {},
   "outputs": [],
   "source": [
    "template = \"\"\"\n",
    "Classify if the user is in danger or not using the context into one of the following categories only 1. Yes 2. No\n",
    "Do not code. Return only one word answer with only the category name that the given context belongs to\n",
    "context: {context}\n",
    "\n",
    "\"\"\""
   ]
  },
  {
   "cell_type": "code",
   "execution_count": 4,
   "id": "890ccb60-11ca-41ec-8044-7beaf569b938",
   "metadata": {},
   "outputs": [],
   "source": [
    "llm = OpenAI(openai_api_key=openai_api_key, max_tokens=1)"
   ]
  },
  {
   "cell_type": "code",
   "execution_count": 5,
   "id": "82364192-ad64-43cf-9274-ae6768ec1bab",
   "metadata": {},
   "outputs": [],
   "source": [
    "def process_llm_output(answer):\n",
    "    # Define your categories\n",
    "    categories = [\"Yes\", \"No\"]\n",
    "\n",
    "    # Check which category the answer belongs to\n",
    "    for category in categories:\n",
    "        if category.lower() in answer.lower():\n",
    "            return category"
   ]
  },
  {
   "cell_type": "code",
   "execution_count": 8,
   "id": "8ebb0f3c-46fb-4bb1-a305-5fc6cf00a7c3",
   "metadata": {},
   "outputs": [],
   "source": [
    "def model(context):\n",
    "    # Prepare the prompt\n",
    "    prompt = template.format(context=context)\n",
    "\n",
    "    llm_output = llm.invoke(prompt)\n",
    "    pred_category = process_llm_output(llm_output)\n",
    "\n",
    "    return pred_category"
   ]
  },
  {
   "cell_type": "code",
   "execution_count": 9,
   "id": "8c9e5fb5-bad6-4266-9c1a-d0f713d0e349",
   "metadata": {},
   "outputs": [
    {
     "name": "stdin",
     "output_type": "stream",
     "text": [
      "Enter Your Context:  I like games\n"
     ]
    },
    {
     "name": "stdout",
     "output_type": "stream",
     "text": [
      "No\n"
     ]
    }
   ],
   "source": [
    "# Take user input for the context\n",
    "context = input(\"Enter Your Context: \")\n",
    "pred = model(context)\n",
    "print(pred)"
   ]
  },
  {
   "cell_type": "markdown",
   "id": "2c1bcc5c-b9cd-4260-b33b-40dc4532bf2b",
   "metadata": {},
   "source": [
    "# some sample outputs (if user in danger: 'Yes', other-wise: 'No')"
   ]
  },
  {
   "cell_type": "code",
   "execution_count": 10,
   "id": "6037c284-a493-47a6-a7ee-9e41273eacb7",
   "metadata": {},
   "outputs": [
    {
     "name": "stdout",
     "output_type": "stream",
     "text": [
      "Yes\n"
     ]
    }
   ],
   "source": [
    "print(model(\"I am near a bomb blast\"))"
   ]
  },
  {
   "cell_type": "code",
   "execution_count": 11,
   "id": "92d8c33b-d205-4826-96c8-36add2f5d87f",
   "metadata": {},
   "outputs": [
    {
     "name": "stdout",
     "output_type": "stream",
     "text": [
      "Yes\n"
     ]
    }
   ],
   "source": [
    "print(model(\"Five men with a gun in hand are approaching me\"))"
   ]
  },
  {
   "cell_type": "code",
   "execution_count": 12,
   "id": "e6fd2dfe-93c9-4d8e-a4d3-d3c50a0d8a76",
   "metadata": {},
   "outputs": [
    {
     "name": "stdout",
     "output_type": "stream",
     "text": [
      "No\n"
     ]
    }
   ],
   "source": [
    "print(model(\"I like cheesecake\"))"
   ]
  }
 ],
 "metadata": {
  "kernelspec": {
   "display_name": "Python 3 (ipykernel)",
   "language": "python",
   "name": "python3"
  },
  "language_info": {
   "codemirror_mode": {
    "name": "ipython",
    "version": 3
   },
   "file_extension": ".py",
   "mimetype": "text/x-python",
   "name": "python",
   "nbconvert_exporter": "python",
   "pygments_lexer": "ipython3",
   "version": "3.11.7"
  }
 },
 "nbformat": 4,
 "nbformat_minor": 5
}
